{
  "cells": [
    {
      "cell_type": "markdown",
      "metadata": {
        "id": "view-in-github",
        "colab_type": "text"
      },
      "source": [
        "<a href=\"https://colab.research.google.com/gist/terris-citizen/2621785fc36ece9757c812d3047d5370/notebook.ipynb\" target=\"_parent\"><img src=\"https://colab.research.google.com/assets/colab-badge.svg\" alt=\"Open In Colab\"/></a>"
      ]
    },
    {
      "cell_type": "markdown",
      "source": [
        "# Please do not share this notebook outside Citizen Health"
      ],
      "metadata": {
        "id": "1ft5fO-wvwIF"
      }
    },
    {
      "cell_type": "markdown",
      "source": [
        "# Install Dependencies"
      ],
      "metadata": {
        "id": "64QYifsi4ulX"
      }
    },
    {
      "cell_type": "code",
      "execution_count": 60,
      "metadata": {
        "id": "cUHfwsPFvT0b"
      },
      "outputs": [],
      "source": [
        "!pip install PyGithub pandas matplotlib ace-tools-open pytz tabulate"
      ]
    },
    {
      "cell_type": "markdown",
      "metadata": {
        "id": "DHQQkw_5vT0f"
      },
      "source": [
        "# Git Config\n",
        "\n",
        "Do not share this notebook outside Citizen Health!"
      ]
    },
    {
      "cell_type": "code",
      "execution_count": 61,
      "metadata": {
        "id": "bP16WwRFvT0f"
      },
      "outputs": [],
      "source": [
        "GITHUB_TOKEN = \"H\"\n",
        "# Comma-delimited list\n",
        "REPO_NAMES = \"Ciitizen/apps-monorepo\""
      ]
    },
    {
      "cell_type": "markdown",
      "metadata": {
        "id": "da1hHV-evT0e"
      },
      "source": [
        "# Specify How Much PR History to Process"
      ]
    },
    {
      "cell_type": "code",
      "execution_count": 62,
      "metadata": {
        "id": "jYvQl4ttvT0e"
      },
      "outputs": [],
      "source": [
        "# 30 days of data takes about 5 minutes\n",
        "max_days = 45\n",
        "per_page = 50  # Max per request\n",
        "max_pages = 500 # Prevent infinite loop"
      ]
    },
    {
      "cell_type": "code",
      "source": [
        "# Calculate the cutoff date\n",
        "from datetime import datetime, timedelta\n",
        "import pytz\n",
        "\n",
        "cutoff_date = datetime.now(pytz.UTC) - timedelta(days=max_days)\n",
        "\n",
        "print (f\"Processing {REPO_NAMES} for PRs after {cutoff_date}\")"
      ],
      "metadata": {
        "colab": {
          "base_uri": "https://localhost:8080/"
        },
        "id": "7K8RhcLz4opb",
        "outputId": "cc0d3778-7850-490e-976d-9dc412c19537"
      },
      "execution_count": 63,
      "outputs": [
        {
          "output_type": "stream",
          "name": "stdout",
          "text": [
            "Processing Ciitizen/apps-monorepo for PRs after 2025-01-09 17:56:13.738971+00:00\n"
          ]
        }
      ]
    },
    {
      "cell_type": "markdown",
      "metadata": {
        "id": "KhIu2mnovT0d"
      },
      "source": [
        "# Function: If a PR is opened after 12 PM PST on a Friday, use Monday 6 AM PST as the PR creation date"
      ]
    },
    {
      "cell_type": "code",
      "execution_count": 64,
      "metadata": {
        "id": "m2ENaeghvT0e"
      },
      "outputs": [],
      "source": [
        "# If a PR is opened after 12 PM PST on a Friday, use Monday 6 AM PST as the PR creation date\n",
        "def adjust_weekend_date(dt):\n",
        "    \"\"\"\n",
        "    Adjusts dates that fall on weekends to the following Monday 6 AM PST.\n",
        "\n",
        "    Args:\n",
        "        dt (datetime): Input datetime (should be timezone-aware)\n",
        "\n",
        "    Returns:\n",
        "        datetime: Either the original datetime or adjusted to following Monday 6 AM PST\n",
        "    \"\"\"\n",
        "    # Ensure we're working with PST timezone\n",
        "    pst_tz = pytz.timezone('America/Los_Angeles')\n",
        "    if dt.tzinfo is None:\n",
        "        dt = pst_tz.localize(dt)\n",
        "    else:\n",
        "        dt = dt.astimezone(pst_tz)\n",
        "\n",
        "    # Get the day of week (0 = Monday, 6 = Sunday)\n",
        "    weekday = dt.weekday()\n",
        "\n",
        "    # Create timestamp for the current day at 12 PM PST\n",
        "    noon_time = dt.replace(hour=12, minute=0, second=0, microsecond=0)\n",
        "\n",
        "    # Check if we're in the weekend window\n",
        "    is_weekend = False\n",
        "\n",
        "    if weekday == 4:  # Friday\n",
        "        is_weekend = dt >= noon_time\n",
        "    elif weekday == 5 or weekday == 6:  # Saturday or Sunday\n",
        "        is_weekend = True\n",
        "    elif weekday == 0:  # Monday\n",
        "        morning_time = dt.replace(hour=6, minute=0, second=0, microsecond=0)\n",
        "        is_weekend = dt < morning_time\n",
        "\n",
        "    if is_weekend:\n",
        "        # Calculate next Monday\n",
        "        days_until_monday = (7 - weekday) % 7\n",
        "        if weekday == 0:  # If Monday but before 6 AM\n",
        "            days_until_monday = 0\n",
        "\n",
        "        next_monday = dt + timedelta(days=days_until_monday)\n",
        "        return next_monday.replace(hour=6, minute=0, second=0, microsecond=0)\n",
        "\n",
        "    return dt"
      ]
    },
    {
      "cell_type": "code",
      "source": [
        "def test_adjust_weekend_date():\n",
        "    # Create timezone-aware test cases using explicit construction\n",
        "    pst_tz = pytz.timezone('America/Los_Angeles')\n",
        "\n",
        "    def create_pst_datetime(year, month, day, hour, minute):\n",
        "        # Helper function to create timezone-aware datetime in PST\n",
        "        naive_dt = datetime(year, month, day, hour, minute)\n",
        "        return pst_tz.localize(naive_dt)\n",
        "\n",
        "    test_cases = [\n",
        "        # Friday before noon (should not change)\n",
        "        (\n",
        "            create_pst_datetime(2025, 2, 21, 11, 0),\n",
        "            create_pst_datetime(2025, 2, 21, 11, 0)\n",
        "        ),\n",
        "\n",
        "        # Friday after noon (should go to Monday 6 AM)\n",
        "        (\n",
        "            create_pst_datetime(2025, 2, 21, 13, 0),\n",
        "            create_pst_datetime(2025, 2, 24, 6, 0)\n",
        "        ),\n",
        "\n",
        "        # Saturday (should go to Monday 6 AM)\n",
        "        (\n",
        "            create_pst_datetime(2025, 2, 22, 10, 0),\n",
        "            create_pst_datetime(2025, 2, 24, 6, 0)\n",
        "        ),\n",
        "\n",
        "        # Monday 5:59 AM (should go to Monday 6 AM)\n",
        "        (\n",
        "            create_pst_datetime(2025, 2, 24, 5, 59),\n",
        "            create_pst_datetime(2025, 2, 24, 6, 0)\n",
        "        ),\n",
        "\n",
        "        # Monday 6 AM (should not change)\n",
        "        (\n",
        "            create_pst_datetime(2025, 2, 24, 6, 0),\n",
        "            create_pst_datetime(2025, 2, 24, 6, 0)\n",
        "        ),\n",
        "\n",
        "        # Cross-month test: Friday May 30, 2025 2 PM PST to Monday June 2, 2025 6 AM PST\n",
        "        (\n",
        "            create_pst_datetime(2025, 5, 30, 14, 0),\n",
        "            create_pst_datetime(2025, 6, 2, 6, 0)\n",
        "        ),\n",
        "    ]\n",
        "\n",
        "    for input_dt, expected_dt in test_cases:\n",
        "        result = adjust_weekend_date(input_dt)\n",
        "        assert result == expected_dt, (\n",
        "            f\"Failed: Input: {input_dt}, Expected: {expected_dt}, Got: {result}\\n\"\n",
        "            f\"Input TZ: {input_dt.tzinfo}, Result TZ: {result.tzinfo}\"\n",
        "        )\n",
        "\n",
        "    print(\"All tests passed!\")"
      ],
      "metadata": {
        "id": "g0pAwvknzzNL"
      },
      "execution_count": 65,
      "outputs": []
    },
    {
      "cell_type": "markdown",
      "metadata": {
        "id": "jV9ji5jgvT0f"
      },
      "source": [
        "# Function: Download PRs"
      ]
    },
    {
      "cell_type": "code",
      "execution_count": 66,
      "metadata": {
        "id": "j3p_Gir_vT0f"
      },
      "outputs": [],
      "source": [
        "processed_all_prs = True\n",
        "\n",
        "def get_prs(repo):\n",
        "    page = 0  # Start at the first page\n",
        "    processed_all_for_repo = False\n",
        "    repo_prs = []\n",
        "\n",
        "    while page < max_pages:\n",
        "        prs = repo.get_pulls(\n",
        "            sort=\"created\",\n",
        "            direction=\"desc\",\n",
        "            state=\"all\"\n",
        "        )[page * per_page : (page + 1) * per_page]  # Manual pagination\n",
        "\n",
        "        # Filter PRs by created_at date\n",
        "        filtered_prs = [pr for pr in prs if pr.created_at >= cutoff_date]\n",
        "\n",
        "        if not filtered_prs:\n",
        "            processed_all_for_repo = True\n",
        "            break  # No more PRs in the date range, exit loop\n",
        "\n",
        "        repo_prs.extend(filtered_prs)\n",
        "        page += 1  # Move to next page\n",
        "\n",
        "    if not processed_all_for_repo:\n",
        "        print(f\"Loop terminated early due to max_pages ({max_pages}) failsafe\")\n",
        "        processed_all_prs = False\n",
        "\n",
        "    return repo_prs"
      ]
    },
    {
      "cell_type": "markdown",
      "metadata": {
        "id": "im1NEBdEvT0f"
      },
      "source": [
        "# Function: Process PR Reviews"
      ]
    },
    {
      "cell_type": "code",
      "execution_count": 67,
      "metadata": {
        "id": "G6WFweO3vT0g"
      },
      "outputs": [],
      "source": [
        "pr_data = []\n",
        "\n",
        "def get_pr_data(repo, prs):\n",
        "    for pr in prs:\n",
        "        # If the pr is a draft skip it\n",
        "        if pr.draft:\n",
        "            print(f\"#{pr.number} is a draft\")\n",
        "            continue\n",
        "\n",
        "        reviews = pr.get_reviews()\n",
        "        # remove reviews by the author\n",
        "        reviews = [\n",
        "            review for review in reviews\n",
        "            if review.user.login != pr.user.login and\n",
        "                review.user.login != \"coderabbitai[bot]\"\n",
        "        ]\n",
        "\n",
        "        if len(reviews) == 0:\n",
        "            print(f\"No reviews for #{pr.number} by {pr.user.login}\")\n",
        "            continue\n",
        "\n",
        "        # When was the PR ready for review?\n",
        "        issue = repo.get_issue(pr.number)\n",
        "        timeline = issue.get_timeline()\n",
        "        ready_for_review_times = []\n",
        "        ready_for_review_at = pr.created_at\n",
        "\n",
        "        for event in timeline:\n",
        "            if event.event == \"ready_for_review\":\n",
        "                ready_for_review_at = event.created_at\n",
        "                ready_for_review_times.append(ready_for_review_at)\n",
        "                # Continue the loop. Use the last ready for review event\n",
        "\n",
        "        # When was the first review submitted after the PR was ready for review?\n",
        "        for review in reviews:\n",
        "            if review.submitted_at >= ready_for_review_at:\n",
        "                first_review_at = review.submitted_at\n",
        "                break\n",
        "\n",
        "        if first_review_at is None:\n",
        "            if len(ready_for_review_times) > 0:\n",
        "                print(f\"No review for #{pr.number} by {pr.user.login} is after the last ready for review event {ready_for_review_times}\")\n",
        "            first_review_at = reviews[0].submitted_at\n",
        "\n",
        "        if pr.merged_at is None:\n",
        "            time_to_merge = None\n",
        "        else:\n",
        "            time_to_merge = (pr.merged_at - adjust_weekend_date(pr.created_at)).total_seconds() / 3600\n",
        "            if time_to_merge < 0:\n",
        "                time_to_merge = (pr.merged_at - pr.created_at).total_seconds() / 3600\n",
        "\n",
        "        time_to_first_review = (adjust_weekend_date(first_review_at) - ready_for_review_at).total_seconds() / 3600\n",
        "        if time_to_first_review < 0:\n",
        "            time_to_first_review = (first_review_at - ready_for_review_at).total_seconds() / 3600\n",
        "\n",
        "        # print(reviews)\n",
        "\n",
        "        pr_data.append({\n",
        "            \"PR Number\": pr.number,\n",
        "            \"Author\": pr.user.login,\n",
        "            \"Created At\": pr.created_at,\n",
        "            \"Ready For Review At\": ready_for_review_at,\n",
        "            \"Time to First Review (hrs)\": time_to_first_review,\n",
        "            \"Merged At\": pr.merged_at,\n",
        "            \"Time to Merge (hrs)\": time_to_merge,\n",
        "            \"Number of Reviews\": len(reviews),\n",
        "        })"
      ]
    },
    {
      "cell_type": "markdown",
      "source": [
        "# Download Data"
      ],
      "metadata": {
        "id": "m6o5gR_7_IzN"
      }
    },
    {
      "cell_type": "code",
      "source": [
        "from github import Github\n",
        "g = Github(GITHUB_TOKEN)"
      ],
      "metadata": {
        "id": "SbWnoiyX2itr"
      },
      "execution_count": 68,
      "outputs": []
    },
    {
      "cell_type": "code",
      "source": [
        "for repo_name in REPO_NAMES.split(','):\n",
        "    repo_name2 = repo_name.strip()\n",
        "    repo = g.get_repo(repo_name2)\n",
        "    print (f\"Collecting PRs for {repo_name2}\")\n",
        "    prs = get_prs(repo)\n",
        "    print (f\"Processing PRs for {repo_name2}\")\n",
        "    get_pr_data(repo, prs)"
      ],
      "metadata": {
        "colab": {
          "base_uri": "https://localhost:8080/"
        },
        "id": "acPGBoMY7U__",
        "outputId": "6d25ee94-ef64-41cf-9f77-c92529979bc2"
      },
      "execution_count": 69,
      "outputs": [
        {
          "output_type": "stream",
          "name": "stdout",
          "text": [
            "Collecting PRs for Ciitizen/apps-monorepo\n",
            "Processing PRs for Ciitizen/apps-monorepo\n",
            "No reviews for #2474 by rarchilach\n",
            "No reviews for #2473 by jingyufanclub\n",
            "No reviews for #2472 by jingyufanclub\n",
            "No reviews for #2434 by terris-citizen\n",
            "#2433 is a draft\n",
            "#2432 is a draft\n",
            "No reviews for #2405 by dependabot[bot]\n",
            "No reviews for #2404 by dependabot[bot]\n",
            "#2382 is a draft\n",
            "#2359 is a draft\n",
            "#2277 is a draft\n",
            "#2264 is a draft\n",
            "#2263 is a draft\n",
            "#2258 is a draft\n"
          ]
        }
      ]
    },
    {
      "cell_type": "markdown",
      "metadata": {
        "id": "Sb8COXDRvT0g"
      },
      "source": [
        "# Begin Analysis"
      ]
    },
    {
      "cell_type": "code",
      "execution_count": 70,
      "metadata": {
        "colab": {
          "base_uri": "https://localhost:8080/",
          "height": 266
        },
        "id": "ERZrIpA0vT0g",
        "outputId": "82942d4b-75ec-4060-ebb4-cbbb6f91562d"
      },
      "outputs": [
        {
          "output_type": "execute_result",
          "data": {
            "text/plain": [
              "                         Metric                      Value\n",
              "0             Processed All PRs                       True\n",
              "1                 Number of PRs                        213\n",
              "2                Min Created At  2025-01-09 19:34:26+00:00\n",
              "3                Max Created At  2025-02-21 20:44:35+00:00\n",
              "4                 Min Merged At  2025-01-09 19:45:50+00:00\n",
              "5                 Max Merged At  2025-02-22 01:59:32+00:00\n",
              "6  Avg Number of Reviews per PR                   1.868545"
            ],
            "text/html": [
              "\n",
              "  <div id=\"df-0219988d-0329-493c-a5d2-c97a229abc79\" class=\"colab-df-container\">\n",
              "    <div>\n",
              "<style scoped>\n",
              "    .dataframe tbody tr th:only-of-type {\n",
              "        vertical-align: middle;\n",
              "    }\n",
              "\n",
              "    .dataframe tbody tr th {\n",
              "        vertical-align: top;\n",
              "    }\n",
              "\n",
              "    .dataframe thead th {\n",
              "        text-align: right;\n",
              "    }\n",
              "</style>\n",
              "<table border=\"1\" class=\"dataframe\">\n",
              "  <thead>\n",
              "    <tr style=\"text-align: right;\">\n",
              "      <th></th>\n",
              "      <th>Metric</th>\n",
              "      <th>Value</th>\n",
              "    </tr>\n",
              "  </thead>\n",
              "  <tbody>\n",
              "    <tr>\n",
              "      <th>0</th>\n",
              "      <td>Processed All PRs</td>\n",
              "      <td>True</td>\n",
              "    </tr>\n",
              "    <tr>\n",
              "      <th>1</th>\n",
              "      <td>Number of PRs</td>\n",
              "      <td>213</td>\n",
              "    </tr>\n",
              "    <tr>\n",
              "      <th>2</th>\n",
              "      <td>Min Created At</td>\n",
              "      <td>2025-01-09 19:34:26+00:00</td>\n",
              "    </tr>\n",
              "    <tr>\n",
              "      <th>3</th>\n",
              "      <td>Max Created At</td>\n",
              "      <td>2025-02-21 20:44:35+00:00</td>\n",
              "    </tr>\n",
              "    <tr>\n",
              "      <th>4</th>\n",
              "      <td>Min Merged At</td>\n",
              "      <td>2025-01-09 19:45:50+00:00</td>\n",
              "    </tr>\n",
              "    <tr>\n",
              "      <th>5</th>\n",
              "      <td>Max Merged At</td>\n",
              "      <td>2025-02-22 01:59:32+00:00</td>\n",
              "    </tr>\n",
              "    <tr>\n",
              "      <th>6</th>\n",
              "      <td>Avg Number of Reviews per PR</td>\n",
              "      <td>1.868545</td>\n",
              "    </tr>\n",
              "  </tbody>\n",
              "</table>\n",
              "</div>\n",
              "    <div class=\"colab-df-buttons\">\n",
              "\n",
              "  <div class=\"colab-df-container\">\n",
              "    <button class=\"colab-df-convert\" onclick=\"convertToInteractive('df-0219988d-0329-493c-a5d2-c97a229abc79')\"\n",
              "            title=\"Convert this dataframe to an interactive table.\"\n",
              "            style=\"display:none;\">\n",
              "\n",
              "  <svg xmlns=\"http://www.w3.org/2000/svg\" height=\"24px\" viewBox=\"0 -960 960 960\">\n",
              "    <path d=\"M120-120v-720h720v720H120Zm60-500h600v-160H180v160Zm220 220h160v-160H400v160Zm0 220h160v-160H400v160ZM180-400h160v-160H180v160Zm440 0h160v-160H620v160ZM180-180h160v-160H180v160Zm440 0h160v-160H620v160Z\"/>\n",
              "  </svg>\n",
              "    </button>\n",
              "\n",
              "  <style>\n",
              "    .colab-df-container {\n",
              "      display:flex;\n",
              "      gap: 12px;\n",
              "    }\n",
              "\n",
              "    .colab-df-convert {\n",
              "      background-color: #E8F0FE;\n",
              "      border: none;\n",
              "      border-radius: 50%;\n",
              "      cursor: pointer;\n",
              "      display: none;\n",
              "      fill: #1967D2;\n",
              "      height: 32px;\n",
              "      padding: 0 0 0 0;\n",
              "      width: 32px;\n",
              "    }\n",
              "\n",
              "    .colab-df-convert:hover {\n",
              "      background-color: #E2EBFA;\n",
              "      box-shadow: 0px 1px 2px rgba(60, 64, 67, 0.3), 0px 1px 3px 1px rgba(60, 64, 67, 0.15);\n",
              "      fill: #174EA6;\n",
              "    }\n",
              "\n",
              "    .colab-df-buttons div {\n",
              "      margin-bottom: 4px;\n",
              "    }\n",
              "\n",
              "    [theme=dark] .colab-df-convert {\n",
              "      background-color: #3B4455;\n",
              "      fill: #D2E3FC;\n",
              "    }\n",
              "\n",
              "    [theme=dark] .colab-df-convert:hover {\n",
              "      background-color: #434B5C;\n",
              "      box-shadow: 0px 1px 3px 1px rgba(0, 0, 0, 0.15);\n",
              "      filter: drop-shadow(0px 1px 2px rgba(0, 0, 0, 0.3));\n",
              "      fill: #FFFFFF;\n",
              "    }\n",
              "  </style>\n",
              "\n",
              "    <script>\n",
              "      const buttonEl =\n",
              "        document.querySelector('#df-0219988d-0329-493c-a5d2-c97a229abc79 button.colab-df-convert');\n",
              "      buttonEl.style.display =\n",
              "        google.colab.kernel.accessAllowed ? 'block' : 'none';\n",
              "\n",
              "      async function convertToInteractive(key) {\n",
              "        const element = document.querySelector('#df-0219988d-0329-493c-a5d2-c97a229abc79');\n",
              "        const dataTable =\n",
              "          await google.colab.kernel.invokeFunction('convertToInteractive',\n",
              "                                                    [key], {});\n",
              "        if (!dataTable) return;\n",
              "\n",
              "        const docLinkHtml = 'Like what you see? Visit the ' +\n",
              "          '<a target=\"_blank\" href=https://colab.research.google.com/notebooks/data_table.ipynb>data table notebook</a>'\n",
              "          + ' to learn more about interactive tables.';\n",
              "        element.innerHTML = '';\n",
              "        dataTable['output_type'] = 'display_data';\n",
              "        await google.colab.output.renderOutput(dataTable, element);\n",
              "        const docLink = document.createElement('div');\n",
              "        docLink.innerHTML = docLinkHtml;\n",
              "        element.appendChild(docLink);\n",
              "      }\n",
              "    </script>\n",
              "  </div>\n",
              "\n",
              "\n",
              "<div id=\"df-23385268-d546-4320-b8b3-ef3a870f4c46\">\n",
              "  <button class=\"colab-df-quickchart\" onclick=\"quickchart('df-23385268-d546-4320-b8b3-ef3a870f4c46')\"\n",
              "            title=\"Suggest charts\"\n",
              "            style=\"display:none;\">\n",
              "\n",
              "<svg xmlns=\"http://www.w3.org/2000/svg\" height=\"24px\"viewBox=\"0 0 24 24\"\n",
              "     width=\"24px\">\n",
              "    <g>\n",
              "        <path d=\"M19 3H5c-1.1 0-2 .9-2 2v14c0 1.1.9 2 2 2h14c1.1 0 2-.9 2-2V5c0-1.1-.9-2-2-2zM9 17H7v-7h2v7zm4 0h-2V7h2v10zm4 0h-2v-4h2v4z\"/>\n",
              "    </g>\n",
              "</svg>\n",
              "  </button>\n",
              "\n",
              "<style>\n",
              "  .colab-df-quickchart {\n",
              "      --bg-color: #E8F0FE;\n",
              "      --fill-color: #1967D2;\n",
              "      --hover-bg-color: #E2EBFA;\n",
              "      --hover-fill-color: #174EA6;\n",
              "      --disabled-fill-color: #AAA;\n",
              "      --disabled-bg-color: #DDD;\n",
              "  }\n",
              "\n",
              "  [theme=dark] .colab-df-quickchart {\n",
              "      --bg-color: #3B4455;\n",
              "      --fill-color: #D2E3FC;\n",
              "      --hover-bg-color: #434B5C;\n",
              "      --hover-fill-color: #FFFFFF;\n",
              "      --disabled-bg-color: #3B4455;\n",
              "      --disabled-fill-color: #666;\n",
              "  }\n",
              "\n",
              "  .colab-df-quickchart {\n",
              "    background-color: var(--bg-color);\n",
              "    border: none;\n",
              "    border-radius: 50%;\n",
              "    cursor: pointer;\n",
              "    display: none;\n",
              "    fill: var(--fill-color);\n",
              "    height: 32px;\n",
              "    padding: 0;\n",
              "    width: 32px;\n",
              "  }\n",
              "\n",
              "  .colab-df-quickchart:hover {\n",
              "    background-color: var(--hover-bg-color);\n",
              "    box-shadow: 0 1px 2px rgba(60, 64, 67, 0.3), 0 1px 3px 1px rgba(60, 64, 67, 0.15);\n",
              "    fill: var(--button-hover-fill-color);\n",
              "  }\n",
              "\n",
              "  .colab-df-quickchart-complete:disabled,\n",
              "  .colab-df-quickchart-complete:disabled:hover {\n",
              "    background-color: var(--disabled-bg-color);\n",
              "    fill: var(--disabled-fill-color);\n",
              "    box-shadow: none;\n",
              "  }\n",
              "\n",
              "  .colab-df-spinner {\n",
              "    border: 2px solid var(--fill-color);\n",
              "    border-color: transparent;\n",
              "    border-bottom-color: var(--fill-color);\n",
              "    animation:\n",
              "      spin 1s steps(1) infinite;\n",
              "  }\n",
              "\n",
              "  @keyframes spin {\n",
              "    0% {\n",
              "      border-color: transparent;\n",
              "      border-bottom-color: var(--fill-color);\n",
              "      border-left-color: var(--fill-color);\n",
              "    }\n",
              "    20% {\n",
              "      border-color: transparent;\n",
              "      border-left-color: var(--fill-color);\n",
              "      border-top-color: var(--fill-color);\n",
              "    }\n",
              "    30% {\n",
              "      border-color: transparent;\n",
              "      border-left-color: var(--fill-color);\n",
              "      border-top-color: var(--fill-color);\n",
              "      border-right-color: var(--fill-color);\n",
              "    }\n",
              "    40% {\n",
              "      border-color: transparent;\n",
              "      border-right-color: var(--fill-color);\n",
              "      border-top-color: var(--fill-color);\n",
              "    }\n",
              "    60% {\n",
              "      border-color: transparent;\n",
              "      border-right-color: var(--fill-color);\n",
              "    }\n",
              "    80% {\n",
              "      border-color: transparent;\n",
              "      border-right-color: var(--fill-color);\n",
              "      border-bottom-color: var(--fill-color);\n",
              "    }\n",
              "    90% {\n",
              "      border-color: transparent;\n",
              "      border-bottom-color: var(--fill-color);\n",
              "    }\n",
              "  }\n",
              "</style>\n",
              "\n",
              "  <script>\n",
              "    async function quickchart(key) {\n",
              "      const quickchartButtonEl =\n",
              "        document.querySelector('#' + key + ' button');\n",
              "      quickchartButtonEl.disabled = true;  // To prevent multiple clicks.\n",
              "      quickchartButtonEl.classList.add('colab-df-spinner');\n",
              "      try {\n",
              "        const charts = await google.colab.kernel.invokeFunction(\n",
              "            'suggestCharts', [key], {});\n",
              "      } catch (error) {\n",
              "        console.error('Error during call to suggestCharts:', error);\n",
              "      }\n",
              "      quickchartButtonEl.classList.remove('colab-df-spinner');\n",
              "      quickchartButtonEl.classList.add('colab-df-quickchart-complete');\n",
              "    }\n",
              "    (() => {\n",
              "      let quickchartButtonEl =\n",
              "        document.querySelector('#df-23385268-d546-4320-b8b3-ef3a870f4c46 button');\n",
              "      quickchartButtonEl.style.display =\n",
              "        google.colab.kernel.accessAllowed ? 'block' : 'none';\n",
              "    })();\n",
              "  </script>\n",
              "</div>\n",
              "\n",
              "  <div id=\"id_9c3fb2b3-3b0b-4336-8d68-9086be24eeb9\">\n",
              "    <style>\n",
              "      .colab-df-generate {\n",
              "        background-color: #E8F0FE;\n",
              "        border: none;\n",
              "        border-radius: 50%;\n",
              "        cursor: pointer;\n",
              "        display: none;\n",
              "        fill: #1967D2;\n",
              "        height: 32px;\n",
              "        padding: 0 0 0 0;\n",
              "        width: 32px;\n",
              "      }\n",
              "\n",
              "      .colab-df-generate:hover {\n",
              "        background-color: #E2EBFA;\n",
              "        box-shadow: 0px 1px 2px rgba(60, 64, 67, 0.3), 0px 1px 3px 1px rgba(60, 64, 67, 0.15);\n",
              "        fill: #174EA6;\n",
              "      }\n",
              "\n",
              "      [theme=dark] .colab-df-generate {\n",
              "        background-color: #3B4455;\n",
              "        fill: #D2E3FC;\n",
              "      }\n",
              "\n",
              "      [theme=dark] .colab-df-generate:hover {\n",
              "        background-color: #434B5C;\n",
              "        box-shadow: 0px 1px 3px 1px rgba(0, 0, 0, 0.15);\n",
              "        filter: drop-shadow(0px 1px 2px rgba(0, 0, 0, 0.3));\n",
              "        fill: #FFFFFF;\n",
              "      }\n",
              "    </style>\n",
              "    <button class=\"colab-df-generate\" onclick=\"generateWithVariable('summary_df')\"\n",
              "            title=\"Generate code using this dataframe.\"\n",
              "            style=\"display:none;\">\n",
              "\n",
              "  <svg xmlns=\"http://www.w3.org/2000/svg\" height=\"24px\"viewBox=\"0 0 24 24\"\n",
              "       width=\"24px\">\n",
              "    <path d=\"M7,19H8.4L18.45,9,17,7.55,7,17.6ZM5,21V16.75L18.45,3.32a2,2,0,0,1,2.83,0l1.4,1.43a1.91,1.91,0,0,1,.58,1.4,1.91,1.91,0,0,1-.58,1.4L9.25,21ZM18.45,9,17,7.55Zm-12,3A5.31,5.31,0,0,0,4.9,8.1,5.31,5.31,0,0,0,1,6.5,5.31,5.31,0,0,0,4.9,4.9,5.31,5.31,0,0,0,6.5,1,5.31,5.31,0,0,0,8.1,4.9,5.31,5.31,0,0,0,12,6.5,5.46,5.46,0,0,0,6.5,12Z\"/>\n",
              "  </svg>\n",
              "    </button>\n",
              "    <script>\n",
              "      (() => {\n",
              "      const buttonEl =\n",
              "        document.querySelector('#id_9c3fb2b3-3b0b-4336-8d68-9086be24eeb9 button.colab-df-generate');\n",
              "      buttonEl.style.display =\n",
              "        google.colab.kernel.accessAllowed ? 'block' : 'none';\n",
              "\n",
              "      buttonEl.onclick = () => {\n",
              "        google.colab.notebook.generateWithVariable('summary_df');\n",
              "      }\n",
              "      })();\n",
              "    </script>\n",
              "  </div>\n",
              "\n",
              "    </div>\n",
              "  </div>\n"
            ],
            "application/vnd.google.colaboratory.intrinsic+json": {
              "type": "dataframe",
              "variable_name": "summary_df",
              "summary": "{\n  \"name\": \"summary_df\",\n  \"rows\": 7,\n  \"fields\": [\n    {\n      \"column\": \"Metric\",\n      \"properties\": {\n        \"dtype\": \"string\",\n        \"num_unique_values\": 7,\n        \"samples\": [\n          \"Processed All PRs\",\n          \"Number of PRs\",\n          \"Max Merged At\"\n        ],\n        \"semantic_type\": \"\",\n        \"description\": \"\"\n      }\n    },\n    {\n      \"column\": \"Value\",\n      \"properties\": {\n        \"dtype\": \"string\",\n        \"num_unique_values\": 7,\n        \"samples\": [\n          true,\n          213,\n          \"2025-02-22 01:59:32+00:00\"\n        ],\n        \"semantic_type\": \"\",\n        \"description\": \"\"\n      }\n    }\n  ]\n}"
            }
          },
          "metadata": {},
          "execution_count": 70
        }
      ],
      "source": [
        "import pandas as pd\n",
        "\n",
        "num_prs = len(pr_data)\n",
        "min_created_at = min(pr[\"Created At\"] for pr in pr_data)\n",
        "max_created_at = max(pr[\"Created At\"] for pr in pr_data)\n",
        "min_merged_at = min((pr[\"Merged At\"] for pr in pr_data if pr[\"Merged At\"] is not None), default=None)\n",
        "max_merged_at = max((pr[\"Merged At\"] for pr in pr_data if pr[\"Merged At\"] is not None), default=None)\n",
        "# Compute the average number of reviews per PR\n",
        "avg_num_reviews = sum(pr[\"Number of Reviews\"]) / num_prs\n",
        "\n",
        "# Create a summary DataFrame\n",
        "summary_df = pd.DataFrame({\n",
        "    \"Metric\": [\"Processed All PRs\", \"Number of PRs\", \"Min Created At\", \"Max Created At\", \"Min Merged At\", \"Max Merged At\", \"Avg Number of Reviews per PR\"],\n",
        "    \"Value\": [processed_all_prs, num_prs, min_created_at, max_created_at, min_merged_at, max_merged_at, avg_num_reviews]\n",
        "})\n",
        "\n",
        "# Display the summary table\n",
        "summary_df"
      ]
    },
    {
      "cell_type": "code",
      "source": [
        "df = pd.DataFrame(pr_data)"
      ],
      "metadata": {
        "id": "KUr1C2qExTl0"
      },
      "execution_count": 71,
      "outputs": []
    },
    {
      "cell_type": "code",
      "execution_count": 72,
      "metadata": {
        "colab": {
          "base_uri": "https://localhost:8080/",
          "height": 1000
        },
        "id": "fR_awW0fvT0g",
        "outputId": "c14f11ca-edea-4417-8ec4-881fac216869"
      },
      "outputs": [
        {
          "output_type": "stream",
          "name": "stdout",
          "text": [
            "PRs\n"
          ]
        },
        {
          "output_type": "display_data",
          "data": {
            "text/plain": [
              "<IPython.core.display.HTML object>"
            ],
            "text/html": [
              "<table id=\"itables_0c1b951a_2b9d_4839_ba97_a50dd901f6f3\" class=\"display nowrap\" data-quarto-disable-processing=\"true\" style=\"table-layout:auto;width:auto;margin:auto;caption-side:bottom\">\n",
              "<thead>\n",
              "    <tr style=\"text-align: right;\">\n",
              "      \n",
              "      <th>PR Number</th>\n",
              "      <th>Author</th>\n",
              "      <th>Created At</th>\n",
              "      <th>Ready For Review At</th>\n",
              "      <th>Time to First Review (hrs)</th>\n",
              "      <th>Merged At</th>\n",
              "      <th>Time to Merge (hrs)</th>\n",
              "      <th>Number of Reviews</th>\n",
              "    </tr>\n",
              "  </thead><tbody><tr>\n",
              "<td style=\"vertical-align:middle; text-align:left\">\n",
              "<a href=https://mwouts.github.io/itables/><svg class=\"main-svg\" xmlns=\"http://www.w3.org/2000/svg\" xmlns:xlink=\"http://www.w3.org/1999/xlink\"\n",
              "width=\"64\" viewBox=\"0 0 500 400\" style=\"font-family: 'Droid Sans', sans-serif;\">\n",
              "    <g style=\"fill:#d9d7fc\">\n",
              "        <path d=\"M100,400H500V357H100Z\" />\n",
              "        <path d=\"M100,300H400V257H100Z\" />\n",
              "        <path d=\"M0,200H400V157H0Z\" />\n",
              "        <path d=\"M100,100H500V57H100Z\" />\n",
              "        <path d=\"M100,350H500V307H100Z\" />\n",
              "        <path d=\"M100,250H400V207H100Z\" />\n",
              "        <path d=\"M0,150H400V107H0Z\" />\n",
              "        <path d=\"M100,50H500V7H100Z\" />\n",
              "    </g>\n",
              "    <g style=\"fill:#1a1366;stroke:#1a1366;\">\n",
              "   <rect x=\"100\" y=\"7\" width=\"400\" height=\"43\">\n",
              "    <animate\n",
              "      attributeName=\"width\"\n",
              "      values=\"0;400;0\"\n",
              "      dur=\"5s\"\n",
              "      repeatCount=\"indefinite\" />\n",
              "      <animate\n",
              "      attributeName=\"x\"\n",
              "      values=\"100;100;500\"\n",
              "      dur=\"5s\"\n",
              "      repeatCount=\"indefinite\" />\n",
              "  </rect>\n",
              "        <rect x=\"0\" y=\"107\" width=\"400\" height=\"43\">\n",
              "    <animate\n",
              "      attributeName=\"width\"\n",
              "      values=\"0;400;0\"\n",
              "      dur=\"3.5s\"\n",
              "      repeatCount=\"indefinite\" />\n",
              "    <animate\n",
              "      attributeName=\"x\"\n",
              "      values=\"0;0;400\"\n",
              "      dur=\"3.5s\"\n",
              "      repeatCount=\"indefinite\" />\n",
              "  </rect>\n",
              "        <rect x=\"100\" y=\"207\" width=\"300\" height=\"43\">\n",
              "    <animate\n",
              "      attributeName=\"width\"\n",
              "      values=\"0;300;0\"\n",
              "      dur=\"3s\"\n",
              "      repeatCount=\"indefinite\" />\n",
              "    <animate\n",
              "      attributeName=\"x\"\n",
              "      values=\"100;100;400\"\n",
              "      dur=\"3s\"\n",
              "      repeatCount=\"indefinite\" />\n",
              "  </rect>\n",
              "        <rect x=\"100\" y=\"307\" width=\"400\" height=\"43\">\n",
              "    <animate\n",
              "      attributeName=\"width\"\n",
              "      values=\"0;400;0\"\n",
              "      dur=\"4s\"\n",
              "      repeatCount=\"indefinite\" />\n",
              "      <animate\n",
              "      attributeName=\"x\"\n",
              "      values=\"100;100;500\"\n",
              "      dur=\"4s\"\n",
              "      repeatCount=\"indefinite\" />\n",
              "  </rect>\n",
              "        <g style=\"fill:transparent;stroke-width:8; stroke-linejoin:round\" rx=\"5\">\n",
              "            <g transform=\"translate(45 50) rotate(-45)\">\n",
              "                <circle r=\"33\" cx=\"0\" cy=\"0\" />\n",
              "                <rect x=\"-8\" y=\"32\" width=\"16\" height=\"30\" />\n",
              "            </g>\n",
              "\n",
              "            <g transform=\"translate(450 152)\">\n",
              "                <polyline points=\"-15,-20 -35,-20 -35,40 25,40 25,20\" />\n",
              "                <rect x=\"-15\" y=\"-40\" width=\"60\" height=\"60\" />\n",
              "            </g>\n",
              "\n",
              "            <g transform=\"translate(50 352)\">\n",
              "                <polygon points=\"-35,-5 0,-40 35,-5\" />\n",
              "                <polygon points=\"-35,10 0,45 35,10\" />\n",
              "            </g>\n",
              "\n",
              "            <g transform=\"translate(75 250)\">\n",
              "                <polyline points=\"-30,30 -60,0 -30,-30\" />\n",
              "                <polyline points=\"0,30 -30,0 0,-30\" />\n",
              "            </g>\n",
              "\n",
              "            <g transform=\"translate(425 250) rotate(180)\">\n",
              "                <polyline points=\"-30,30 -60,0 -30,-30\" />\n",
              "                <polyline points=\"0,30 -30,0 0,-30\" />\n",
              "            </g>\n",
              "        </g>\n",
              "    </g>\n",
              "</svg>\n",
              "</a>\n",
              "Loading ITables v2.2.4 from the internet...\n",
              "(need <a href=https://mwouts.github.io/itables/troubleshooting.html>help</a>?)</td>\n",
              "</tr></tbody>\n",
              "</table>\n",
              "<link href=\"https://www.unpkg.com/dt_for_itables@2.0.13/dt_bundle.css\" rel=\"stylesheet\">\n",
              "<script type=\"module\">\n",
              "    import {DataTable, jQuery as $} from 'https://www.unpkg.com/dt_for_itables@2.0.13/dt_bundle.js';\n",
              "\n",
              "    document.querySelectorAll(\"#itables_0c1b951a_2b9d_4839_ba97_a50dd901f6f3:not(.dataTable)\").forEach(table => {\n",
              "        if (!(table instanceof HTMLTableElement))\n",
              "            return;\n",
              "\n",
              "        // Define the table data\n",
              "        const data = [[2471, \"slee4343\", \"2025-02-21 20:44:35+00:00\", \"2025-02-21 20:44:35+00:00\", 65.256944, \"2025-02-21 21:11:05+00:00\", 0.441667, 1], [2470, \"pnieloud\", \"2025-02-21 19:56:35+00:00\", \"2025-02-21 19:56:35+00:00\", 66.056944, \"NaT\", NaN, 1], [2469, \"GonzaGr92\", \"2025-02-21 15:04:40+00:00\", \"2025-02-21 15:04:40+00:00\", 0.841944, \"2025-02-21 16:23:04+00:00\", 1.306667, 2], [2468, \"carolinaspina\", \"2025-02-21 11:58:52+00:00\", \"2025-02-21 11:58:52+00:00\", 0.296111, \"2025-02-21 14:07:02+00:00\", 2.136111, 1], [2467, \"zvik2004\", \"2025-02-21 03:33:40+00:00\", \"2025-02-21 03:33:40+00:00\", 11.673889, \"2025-02-21 15:16:38+00:00\", 11.716111, 1], [2466, \"GonzaGr92\", \"2025-02-21 03:10:15+00:00\", \"2025-02-21 03:10:15+00:00\", 0.414167, \"2025-02-21 03:35:36+00:00\", 0.4225, 1], [2465, \"jingyufanclub\", \"2025-02-20 21:42:40+00:00\", \"2025-02-20 21:42:40+00:00\", 14.285278, \"2025-02-21 15:11:52+00:00\", 17.486667, 1], [2464, \"GonzaGr92\", \"2025-02-20 20:59:12+00:00\", \"2025-02-20 20:59:12+00:00\", 0.516389, \"2025-02-20 21:55:53+00:00\", 0.944722, 2], [2463, \"facarrizo24\", \"2025-02-20 20:52:38+00:00\", \"2025-02-20 20:52:38+00:00\", 0.177222, \"2025-02-20 21:25:08+00:00\", 0.541667, 1], [2462, \"jingyufanclub\", \"2025-02-20 20:47:28+00:00\", \"2025-02-20 20:47:28+00:00\", 0.4725, \"2025-02-21 16:47:08+00:00\", 19.994444, 2], [2461, \"slee4343\", \"2025-02-20 20:36:48+00:00\", \"2025-02-20 20:47:48+00:00\", 0.299722, \"2025-02-20 22:59:02+00:00\", 2.370556, 2], [2460, \"GonzaGr92\", \"2025-02-20 20:02:49+00:00\", \"2025-02-20 20:02:49+00:00\", 1.5025, \"2025-02-20 22:22:55+00:00\", 2.335, 3], [2459, \"pnieloud\", \"2025-02-20 20:02:06+00:00\", \"2025-02-20 20:02:06+00:00\", 0.033611, \"2025-02-20 20:23:52+00:00\", 0.362778, 1], [2458, \"GonzaGr92\", \"2025-02-20 15:55:56+00:00\", \"2025-02-20 15:55:56+00:00\", 0.068611, \"2025-02-20 16:58:05+00:00\", 1.035833, 1], [2457, \"GonzaGr92\", \"2025-02-20 15:32:13+00:00\", \"2025-02-20 15:32:13+00:00\", 1.505, \"2025-02-20 17:21:38+00:00\", 1.823611, 1], [2456, \"zvik2004\", \"2025-02-20 14:49:24+00:00\", \"2025-02-20 14:49:24+00:00\", 7.668611, \"2025-02-20 22:31:33+00:00\", 7.7025, 1], [2455, \"carolinaspina\", \"2025-02-20 14:34:54+00:00\", \"2025-02-20 14:34:54+00:00\", 1.813333, \"2025-02-20 17:01:15+00:00\", 2.439167, 3], [2454, \"slee4343\", \"2025-02-20 00:33:12+00:00\", \"2025-02-20 00:33:12+00:00\", 0.348333, \"2025-02-20 02:04:55+00:00\", 1.528611, 1], [2453, \"slee4343\", \"2025-02-19 22:23:33+00:00\", \"2025-02-19 23:00:32+00:00\", 1.436389, \"2025-02-20 01:22:46+00:00\", 2.986944, 1], [2452, \"zvik2004\", \"2025-02-19 22:18:28+00:00\", \"2025-02-19 22:29:43+00:00\", 16.459167, \"2025-02-20 17:03:54+00:00\", 18.757222, 14], [2451, \"GonzaGr92\", \"2025-02-19 20:49:59+00:00\", \"2025-02-19 20:49:59+00:00\", 0.228333, \"2025-02-19 21:05:52+00:00\", 0.264722, 1], [2450, \"carolinaspina\", \"2025-02-19 19:39:06+00:00\", \"2025-02-19 19:39:06+00:00\", 0.054444, \"2025-02-19 20:19:13+00:00\", 0.668611, 1], [2449, \"GonzaGr92\", \"2025-02-19 18:42:40+00:00\", \"2025-02-19 18:42:40+00:00\", 0.189444, \"2025-02-19 20:55:23+00:00\", 2.211944, 1], [2448, \"marticks\", \"2025-02-19 17:57:18+00:00\", \"2025-02-20 13:06:31+00:00\", 0.7625, \"NaT\", NaN, 6], [2447, \"GonzaGr92\", \"2025-02-19 17:07:53+00:00\", \"2025-02-19 17:07:53+00:00\", 0.274722, \"2025-02-19 20:43:31+00:00\", 3.593889, 4], [2446, \"GonzaGr92\", \"2025-02-19 14:10:50+00:00\", \"2025-02-19 14:10:50+00:00\", 1.2275, \"2025-02-19 17:03:58+00:00\", 2.885556, 1], [2445, \"rarchilach\", \"2025-02-19 03:15:31+00:00\", \"2025-02-19 03:15:31+00:00\", 0.119444, \"2025-02-19 08:29:32+00:00\", 5.233611, 2], [2444, \"GonzaGr92\", \"2025-02-18 21:26:43+00:00\", \"2025-02-18 21:26:43+00:00\", 0.284167, \"2025-02-18 21:54:02+00:00\", 0.455278, 2], [2443, \"facarrizo24\", \"2025-02-18 21:12:18+00:00\", \"2025-02-18 21:12:18+00:00\", 0.293889, \"2025-02-18 21:33:30+00:00\", 0.353333, 2], [2442, \"jingyufanclub\", \"2025-02-18 15:10:31+00:00\", \"2025-02-18 15:10:31+00:00\", 2.111389, \"2025-02-20 16:17:04+00:00\", 49.109167, 6], [2441, \"rarchilach\", \"2025-02-18 02:25:24+00:00\", \"2025-02-18 02:25:24+00:00\", 12.577778, \"2025-02-18 17:46:31+00:00\", 15.351944, 5], [2440, \"zvik2004\", \"2025-02-17 22:41:59+00:00\", \"2025-02-17 22:41:59+00:00\", 0.651389, \"2025-02-18 11:00:41+00:00\", 12.311667, 1], [2439, \"facarrizo24\", \"2025-02-17 22:37:22+00:00\", \"2025-02-17 22:37:22+00:00\", 13.724444, \"2025-02-19 14:25:49+00:00\", 39.8075, 3], [2438, \"GonzaGr92\", \"2025-02-17 22:13:16+00:00\", \"2025-02-17 22:13:16+00:00\", 0.509722, \"2025-02-18 15:14:45+00:00\", 17.024722, 2], [2437, \"zvik2004\", \"2025-02-17 20:33:55+00:00\", \"2025-02-17 20:33:55+00:00\", 1.608333, \"2025-02-17 22:43:41+00:00\", 2.162778, 1], [2436, \"carolinaspina\", \"2025-02-17 17:44:36+00:00\", \"2025-02-17 17:44:36+00:00\", 47.503056, \"2025-02-19 17:19:12+00:00\", 47.576667, 1], [2435, \"GonzaGr92\", \"2025-02-17 17:12:29+00:00\", \"2025-02-17 17:12:29+00:00\", 0.061111, \"2025-02-17 17:32:56+00:00\", 0.340833, 1], [2431, \"GonzaGr92\", \"2025-02-14 20:38:02+00:00\", \"2025-02-18 16:02:04+00:00\", 1.380833, \"2025-02-18 22:01:43+00:00\", 32.028611, 1], [2430, \"GonzaGr92\", \"2025-02-14 19:53:12+00:00\", \"2025-02-14 19:53:12+00:00\", 0.011667, \"2025-02-17 15:57:21+00:00\", 68.069167, 1], [2429, \"terris-citizen\", \"2025-02-14 18:08:11+00:00\", \"2025-02-14 18:27:24+00:00\", 0.184167, \"NaT\", NaN, 1], [2428, \"GonzaGr92\", \"2025-02-14 17:36:21+00:00\", \"2025-02-14 17:36:21+00:00\", 0.966667, \"2025-02-14 19:36:49+00:00\", 2.007778, 1], [2427, \"rarchilach\", \"2025-02-14 17:27:03+00:00\", \"2025-02-14 17:27:03+00:00\", 0.155833, \"2025-02-14 18:18:52+00:00\", 0.863611, 1], [2426, \"GonzaGr92\", \"2025-02-14 17:18:30+00:00\", \"2025-02-14 17:18:30+00:00\", 0.995278, \"2025-02-14 18:49:29+00:00\", 1.516389, 1], [2425, \"jingyufanclub\", \"2025-02-14 16:43:50+00:00\", \"2025-02-14 16:43:50+00:00\", 0.271667, \"2025-02-14 17:03:26+00:00\", 0.326667, 1], [2424, \"GonzaGr92\", \"2025-02-14 15:42:59+00:00\", \"2025-02-14 15:42:59+00:00\", 2.621667, \"2025-02-14 19:45:28+00:00\", 4.041389, 1], [2423, \"pnieloud\", \"2025-02-14 15:28:43+00:00\", \"2025-02-14 15:28:43+00:00\", 0.035278, \"2025-02-14 15:53:06+00:00\", 0.406389, 1], [2422, \"jingyufanclub\", \"2025-02-14 14:59:39+00:00\", \"2025-02-14 14:59:39+00:00\", 0.1325, \"2025-02-14 15:07:53+00:00\", 0.137222, 1], [2421, \"carolinaspina\", \"2025-02-14 11:45:05+00:00\", \"2025-02-14 11:45:05+00:00\", 0.681111, \"2025-02-14 12:33:10+00:00\", 0.801389, 1], [2420, \"terris-citizen\", \"2025-02-14 04:31:24+00:00\", \"2025-02-15 06:33:20+00:00\", 55.444444, \"NaT\", NaN, 1], [2419, \"rarchilach\", \"2025-02-14 02:58:16+00:00\", \"2025-02-14 02:58:16+00:00\", 10.496389, \"2025-02-14 13:28:26+00:00\", 10.502778, 1], [2418, \"GonzaGr92\", \"2025-02-13 21:35:16+00:00\", \"2025-02-13 21:35:16+00:00\", 17.744722, \"2025-02-14 15:32:45+00:00\", 17.958056, 1], [2417, \"slee4343\", \"2025-02-13 18:28:15+00:00\", \"2025-02-13 18:28:15+00:00\", 19.556944, \"2025-02-14 18:13:36+00:00\", 23.755833, 2], [2416, \"rarchilach\", \"2025-02-13 06:53:59+00:00\", \"2025-02-13 06:53:59+00:00\", 5.458056, \"2025-02-13 15:57:31+00:00\", 9.058889, 2], [2415, \"terris-citizen\", \"2025-02-13 05:52:00+00:00\", \"2025-02-13 16:06:10+00:00\", 24.466111, \"2025-02-17 20:02:07+00:00\", 110.168611, 3], [2414, \"terris-citizen\", \"2025-02-13 05:21:01+00:00\", \"2025-02-13 05:25:01+00:00\", 7.474167, \"2025-02-13 19:11:40+00:00\", 13.844167, 1], [2413, \"pnieloud\", \"2025-02-12 19:20:00+00:00\", \"2025-02-12 19:20:00+00:00\", 0.043056, \"2025-02-12 19:33:01+00:00\", 0.216944, 1], [2412, \"marticks\", \"2025-02-12 15:05:28+00:00\", \"2025-02-12 15:05:28+00:00\", 0.048333, \"2025-02-12 15:12:55+00:00\", 0.124167, 1], [2411, \"marticks\", \"2025-02-12 14:16:55+00:00\", \"2025-02-12 14:16:55+00:00\", 0.051667, \"2025-02-12 14:24:36+00:00\", 0.128056, 1], [2410, \"marticks\", \"2025-02-12 12:42:54+00:00\", \"2025-02-12 12:42:54+00:00\", 0.012222, \"2025-02-12 12:49:23+00:00\", 0.108056, 1], [2409, \"marticks\", \"2025-02-12 11:34:02+00:00\", \"2025-02-12 11:34:02+00:00\", 0.009167, \"2025-02-12 11:40:27+00:00\", 0.106944, 1], [2408, \"terris-citizen\", \"2025-02-12 04:39:53+00:00\", \"2025-02-13 20:39:23+00:00\", 89.343611, \"2025-02-22 01:59:32+00:00\", 237.3275, 5], [2407, \"rarchilach\", \"2025-02-11 22:28:42+00:00\", \"2025-02-11 22:28:42+00:00\", 15.848333, \"2025-02-12 15:24:13+00:00\", 16.925278, 2], [2406, \"jingyufanclub\", \"2025-02-11 21:59:36+00:00\", \"2025-02-11 21:59:36+00:00\", 39.825, \"2025-02-13 18:45:01+00:00\", 44.756944, 2], [2403, \"slee4343\", \"2025-02-11 20:41:42+00:00\", \"2025-02-11 20:41:42+00:00\", 3.002778, \"2025-02-12 02:30:49+00:00\", 5.818611, 1], [2402, \"carolinaspina\", \"2025-02-11 12:23:35+00:00\", \"2025-02-11 12:23:35+00:00\", 3.840833, \"2025-02-11 16:21:11+00:00\", 3.96, 1], [2401, \"facarrizo24\", \"2025-02-10 23:14:45+00:00\", \"2025-02-10 23:14:45+00:00\", 1.652222, \"2025-02-11 18:54:03+00:00\", 19.655, 4], [2400, \"marticks\", \"2025-02-10 20:18:55+00:00\", \"2025-02-10 20:18:55+00:00\", 23.175, \"2025-02-11 20:56:58+00:00\", 24.634167, 3], [2399, \"brian-mcdonell-invitae\", \"2025-02-10 19:55:40+00:00\", \"2025-02-10 19:55:40+00:00\", 0.072778, \"2025-02-10 21:01:23+00:00\", 1.095278, 5], [2398, \"carolinaspina\", \"2025-02-10 15:45:38+00:00\", \"2025-02-10 15:45:38+00:00\", 0.019722, \"2025-02-10 15:58:27+00:00\", 0.213611, 2], [2397, \"mcrasso-cii\", \"2025-02-10 12:30:16+00:00\", \"2025-02-10 13:39:16+00:00\", 3.754722, \"2025-02-10 19:55:08+00:00\", 5.918889, 2], [2396, \"GonzaGr92\", \"2025-02-07 20:04:25+00:00\", \"2025-02-07 20:04:25+00:00\", 65.926389, \"2025-02-11 22:44:40+00:00\", 32.744444, 2], [2395, \"GonzaGr92\", \"2025-02-07 18:03:18+00:00\", \"2025-02-07 18:03:18+00:00\", 0.099444, \"2025-02-07 18:18:55+00:00\", 0.260278, 2], [2394, \"carolinaspina\", \"2025-02-07 15:35:58+00:00\", \"2025-02-07 15:35:58+00:00\", 1.059444, \"2025-02-07 16:44:17+00:00\", 1.138611, 2], [2393, \"pnieloud\", \"2025-02-07 14:05:27+00:00\", \"2025-02-07 14:05:27+00:00\", 0.017778, \"2025-02-07 14:41:13+00:00\", 0.596111, 1], [2392, \"slee4343\", \"2025-02-07 00:48:28+00:00\", \"2025-02-07 00:48:28+00:00\", 19.114167, \"2025-02-07 20:18:33+00:00\", 19.501389, 2], [2391, \"terris-citizen\", \"2025-02-07 00:19:23+00:00\", \"2025-02-08 06:32:23+00:00\", 84.4, \"2025-02-12 17:27:58+00:00\", 137.143056, 2], [2390, \"zvik2004\", \"2025-02-06 22:31:16+00:00\", \"2025-02-06 22:31:16+00:00\", 1.334444, \"2025-02-07 13:36:09+00:00\", 15.081389, 6], [2389, \"brian-mcdonell-invitae\", \"2025-02-06 21:32:14+00:00\", \"2025-02-06 21:32:14+00:00\", 0.229167, \"2025-02-06 21:54:55+00:00\", 0.378056, 1], [2388, \"brian-mcdonell-invitae\", \"2025-02-06 19:41:08+00:00\", \"2025-02-06 19:41:08+00:00\", 0.083611, \"2025-02-06 20:48:35+00:00\", 1.124167, 1], [2387, \"jingyufanclub\", \"2025-02-06 16:00:22+00:00\", \"2025-02-06 16:00:22+00:00\", 1.145556, \"2025-02-06 17:30:07+00:00\", 1.495833, 1], [2386, \"carolinaspina\", \"2025-02-06 14:02:57+00:00\", \"2025-02-06 14:02:57+00:00\", 0.029167, \"2025-02-06 14:14:06+00:00\", 0.185833, 1], [2385, \"pnieloud\", \"2025-02-06 13:26:21+00:00\", \"2025-02-06 13:26:21+00:00\", 0.065556, \"2025-02-06 15:09:32+00:00\", 1.719722, 2], [2384, \"carolinaspina\", \"2025-02-06 12:49:55+00:00\", \"2025-02-06 12:49:55+00:00\", 0.8275, \"2025-02-06 13:54:40+00:00\", 1.079167, 1], [2383, \"ddwang\", \"2025-02-06 09:38:26+00:00\", \"2025-02-06 09:38:26+00:00\", 3.1625, \"NaT\", NaN, 4], [2381, \"brian-mcdonell-invitae\", \"2025-02-05 20:57:08+00:00\", \"2025-02-05 20:57:08+00:00\", 2.710278, \"2025-02-05 23:40:43+00:00\", 2.726389, 1], [2380, \"pnieloud\", \"2025-02-05 20:24:39+00:00\", \"2025-02-05 20:24:39+00:00\", 0.008611, \"2025-02-05 20:35:07+00:00\", 0.174444, 1], [2379, \"zvik2004\", \"2025-02-05 16:42:18+00:00\", \"2025-02-05 16:42:18+00:00\", 22.459722, \"2025-02-06 15:18:18+00:00\", 22.6, 1], [2378, \"brian-mcdonell-invitae\", \"2025-02-05 16:27:33+00:00\", \"2025-02-05 16:27:33+00:00\", 0.192778, \"2025-02-05 17:00:08+00:00\", 0.543056, 1], [2377, \"brian-mcdonell-invitae\", \"2025-02-05 03:37:44+00:00\", \"2025-02-05 03:37:44+00:00\", 8.756389, \"2025-02-05 15:34:37+00:00\", 11.948056, 2], [2376, \"brian-mcdonell-invitae\", \"2025-02-05 03:28:10+00:00\", \"2025-02-05 03:28:10+00:00\", 8.937222, \"2025-02-05 17:41:38+00:00\", 14.224444, 1], [2375, \"jingyufanclub\", \"2025-02-04 23:23:49+00:00\", \"2025-02-04 23:23:49+00:00\", 11.785833, \"2025-02-05 12:27:37+00:00\", 13.063333, 1], [2374, \"carolinaspina\", \"2025-02-04 21:19:04+00:00\", \"2025-02-04 21:19:04+00:00\", 0.022778, \"2025-02-04 21:34:45+00:00\", 0.261389, 2], [2373, \"carolinaspina\", \"2025-02-04 19:49:22+00:00\", \"2025-02-04 19:49:22+00:00\", 0.593333, \"2025-02-05 12:20:48+00:00\", 16.523889, 1], [2372, \"jingyufanclub\", \"2025-02-04 19:40:39+00:00\", \"2025-02-04 19:40:39+00:00\", 0.461389, \"2025-02-04 20:41:37+00:00\", 1.016111, 1], [2371, \"facarrizo24\", \"2025-02-04 19:14:50+00:00\", \"2025-02-04 19:14:50+00:00\", 21.921667, \"2025-02-06 21:41:32+00:00\", 50.445, 6], [2370, \"brian-mcdonell-invitae\", \"2025-02-04 16:38:56+00:00\", \"2025-02-04 16:38:56+00:00\", 0.454444, \"2025-02-05 03:14:27+00:00\", 10.591944, 9], [2369, \"zvik2004\", \"2025-02-04 13:40:39+00:00\", \"2025-02-04 13:40:39+00:00\", 0.065556, \"2025-02-04 13:57:06+00:00\", 0.274167, 1], [2368, \"zvik2004\", \"2025-02-04 03:31:28+00:00\", \"2025-02-04 14:59:15+00:00\", 0.237778, \"2025-02-04 17:21:28+00:00\", 13.833333, 2], [2367, \"GonzaGr92\", \"2025-02-04 02:02:35+00:00\", \"2025-02-04 02:02:35+00:00\", 22.294722, \"2025-02-05 15:12:45+00:00\", 37.169444, 1], [2366, \"slee4343\", \"2025-02-04 01:39:44+00:00\", \"2025-02-04 01:39:44+00:00\", 15.762778, \"2025-02-04 21:23:06+00:00\", 19.722778, 3], [2365, \"brian-mcdonell-invitae\", \"2025-02-03 22:20:22+00:00\", \"2025-02-03 22:20:22+00:00\", 0.066389, \"2025-02-03 22:27:11+00:00\", 0.113611, 1], [2364, \"GonzaGr92\", \"2025-02-03 21:31:35+00:00\", \"2025-02-03 21:31:35+00:00\", 0.215833, \"2025-02-04 01:41:05+00:00\", 4.158333, 1], [2363, \"GonzaGr92\", \"2025-02-03 20:28:12+00:00\", \"2025-02-03 20:28:12+00:00\", 0.054167, \"2025-02-03 21:00:03+00:00\", 0.530833, 2], [2362, \"pnieloud\", \"2025-02-03 20:23:17+00:00\", \"2025-02-03 20:23:17+00:00\", 0.025, \"2025-02-03 20:41:26+00:00\", 0.3025, 2], [2361, \"marticks\", \"2025-02-03 19:26:28+00:00\", \"2025-02-03 19:26:28+00:00\", 1.447222, \"2025-02-04 14:55:27+00:00\", 19.483056, 1], [2360, \"zvik2004\", \"2025-02-03 16:48:15+00:00\", \"2025-02-03 16:48:15+00:00\", 21.246944, \"2025-02-04 14:21:51+00:00\", 21.56, 1], [2358, \"brian-mcdonell-invitae\", \"2025-02-01 02:43:00+00:00\", \"2025-02-01 02:43:00+00:00\", 59.283333, \"2025-02-03 17:23:16+00:00\", 3.387778, 2], [2357, \"slee4343\", \"2025-02-01 00:31:07+00:00\", \"2025-02-01 00:54:00+00:00\", 61.1, \"2025-02-03 16:15:34+00:00\", 2.259444, 2], [2356, \"pnieloud\", \"2025-01-31 19:57:03+00:00\", \"2025-01-31 19:57:03+00:00\", 66.049167, \"2025-01-31 20:46:41+00:00\", 0.827222, 1], [2355, \"phmurias-ciitizen\", \"2025-01-31 18:58:52+00:00\", \"2025-01-31 18:58:52+00:00\", 123.084722, \"2025-02-06 23:39:28+00:00\", 148.676667, 2], [2354, \"pnieloud\", \"2025-01-31 14:39:02+00:00\", \"2025-01-31 14:39:02+00:00\", 0.525556, \"2025-01-31 15:15:48+00:00\", 0.612778, 1], [2353, \"marticks\", \"2025-01-31 14:21:50+00:00\", \"2025-01-31 14:21:50+00:00\", 0.011111, \"2025-01-31 15:17:12+00:00\", 0.922778, 1], [2352, \"carolinaspina\", \"2025-01-31 11:05:53+00:00\", \"2025-01-31 11:05:53+00:00\", 2.018611, \"2025-01-31 13:09:06+00:00\", 2.053611, 1], [2351, \"facarrizo24\", \"2025-01-31 03:19:42+00:00\", \"2025-02-14 18:39:18+00:00\", -341.538333, \"NaT\", NaN, 3], [2350, \"terris-citizen\", \"2025-01-30 22:41:24+00:00\", \"2025-01-31 00:08:32+00:00\", 13.264444, \"2025-02-01 04:40:34+00:00\", 29.986111, 3], [2349, \"brian-mcdonell-invitae\", \"2025-01-30 21:49:00+00:00\", \"2025-01-30 21:49:00+00:00\", 0.065, \"2025-01-30 22:06:43+00:00\", 0.295278, 2], [2348, \"facarrizo24\", \"2025-01-30 20:22:31+00:00\", \"2025-01-30 20:22:31+00:00\", 0.863889, \"2025-01-30 21:42:32+00:00\", 1.333611, 1], [2347, \"pnieloud\", \"2025-01-30 13:34:13+00:00\", \"2025-01-30 13:34:13+00:00\", 0.027778, \"2025-01-30 13:40:34+00:00\", 0.105833, 1], [2346, \"carolinaspina\", \"2025-01-30 12:43:40+00:00\", \"2025-01-30 12:43:40+00:00\", 0.0675, \"2025-01-30 13:20:35+00:00\", 0.615278, 1], [2345, \"carolinaspina\", \"2025-01-30 12:30:04+00:00\", \"2025-01-30 12:30:04+00:00\", 1.166389, \"2025-01-30 13:56:02+00:00\", 1.432778, 1], [2344, \"terris-citizen\", \"2025-01-30 04:17:35+00:00\", \"2025-01-30 18:37:50+00:00\", 1.318611, \"2025-01-31 01:05:59+00:00\", 20.806667, 2], [2343, \"marticks\", \"2025-01-29 21:04:13+00:00\", \"2025-01-29 21:04:13+00:00\", 16.176389, \"2025-01-30 17:34:31+00:00\", 20.505, 2], [2342, \"jingyufanclub\", \"2025-01-29 20:44:45+00:00\", \"2025-01-29 22:10:18+00:00\", 136.743611, \"2025-02-04 15:45:22+00:00\", 139.010278, 2], [2341, \"GonzaGr92\", \"2025-01-29 20:28:55+00:00\", \"2025-01-29 20:28:55+00:00\", 141.756389, \"2025-02-05 15:11:43+00:00\", 162.713333, 4], [2340, \"pnieloud\", \"2025-01-29 18:57:43+00:00\", \"2025-01-29 18:57:43+00:00\", 0.079444, \"2025-01-29 21:52:14+00:00\", 2.908611, 4], [2339, \"marticks\", \"2025-01-29 16:16:05+00:00\", \"2025-01-29 16:16:05+00:00\", 0.380833, \"2025-01-29 18:50:50+00:00\", 2.579167, 1], [2338, \"pnieloud\", \"2025-01-29 13:57:51+00:00\", \"2025-01-29 13:57:51+00:00\", 0.091389, \"2025-01-29 14:07:52+00:00\", 0.166944, 2], [2337, \"jingyufanclub\", \"2025-01-28 21:11:38+00:00\", \"2025-01-28 21:11:38+00:00\", 15.6675, \"2025-01-29 12:53:52+00:00\", 15.703889, 1], [2336, \"rarchilach\", \"2025-01-28 20:59:05+00:00\", \"2025-01-28 20:59:05+00:00\", 2.671389, \"2025-01-30 22:15:45+00:00\", 49.277778, 7], [2335, \"carolinaspina\", \"2025-01-28 20:25:21+00:00\", \"2025-01-28 20:25:21+00:00\", 0.036389, \"2025-01-28 20:31:05+00:00\", 0.095556, 1], [2334, \"pnieloud\", \"2025-01-28 19:02:05+00:00\", \"2025-01-28 19:02:05+00:00\", 0.149722, \"2025-01-28 19:59:43+00:00\", 0.960556, 3], [2333, \"carolinaspina\", \"2025-01-28 14:16:07+00:00\", \"2025-01-28 14:16:07+00:00\", 0.086389, \"2025-01-28 14:56:03+00:00\", 0.665556, 2], [2332, \"terris-citizen\", \"2025-01-28 05:34:57+00:00\", \"2025-01-28 06:03:15+00:00\", 3.986944, \"2025-01-29 17:42:39+00:00\", 36.128333, 5], [2331, \"GonzaGr92\", \"2025-01-27 21:59:13+00:00\", \"2025-01-27 21:59:13+00:00\", 0.080833, \"2025-01-28 13:56:16+00:00\", 15.950833, 2], [2330, \"slee4343\", \"2025-01-27 19:00:30+00:00\", \"2025-01-27 19:00:30+00:00\", 0.28, \"2025-01-27 21:03:55+00:00\", 2.056944, 1], [2329, \"carolinaspina\", \"2025-01-27 12:06:14+00:00\", \"2025-01-27 12:06:14+00:00\", 1.896111, \"2025-01-27 13:10:19+00:00\", 1.068056, 2], [2328, \"terris-citizen\", \"2025-01-26 18:25:45+00:00\", \"2025-01-27 23:29:35+00:00\", 10.263889, \"2025-01-29 06:18:38+00:00\", 40.310556, 2], [2327, \"carolinaspina\", \"2025-01-24 19:43:07+00:00\", \"2025-01-24 19:43:07+00:00\", 66.281389, \"2025-01-24 20:06:08+00:00\", 0.383611, 1], [2326, \"slee4343\", \"2025-01-24 18:41:30+00:00\", \"2025-01-24 18:41:30+00:00\", 0.629167, \"2025-01-24 19:20:08+00:00\", 0.643889, 1], [2325, \"pnieloud\", \"2025-01-24 15:40:21+00:00\", \"2025-01-24 15:40:21+00:00\", 0.160278, \"2025-01-24 19:24:34+00:00\", 3.736944, 4], [2324, \"carolinaspina\", \"2025-01-24 14:43:42+00:00\", \"2025-01-24 14:43:42+00:00\", 0.451667, \"2025-01-27 11:50:15+00:00\", 69.109167, 2], [2323, \"slee4343\", \"2025-01-24 02:09:08+00:00\", \"2025-01-24 02:09:29+00:00\", 11.683889, \"2025-01-27 19:56:18+00:00\", 89.786111, 3], [2322, \"pnieloud\", \"2025-01-23 23:51:56+00:00\", \"2025-01-23 23:51:56+00:00\", 0.153333, \"2025-01-24 00:16:58+00:00\", 0.417222, 1], [2321, \"carolinaspina\", \"2025-01-23 23:35:43+00:00\", \"2025-01-23 23:35:43+00:00\", 0.294167, \"2025-01-24 00:25:56+00:00\", 0.836944, 1], [2320, \"pnieloud\", \"2025-01-23 23:34:16+00:00\", \"2025-01-23 23:34:16+00:00\", 0.036389, \"2025-01-23 23:48:00+00:00\", 0.228889, 1], [2319, \"GonzaGr92\", \"2025-01-23 22:04:49+00:00\", \"2025-01-23 22:04:49+00:00\", 0.106111, \"2025-01-23 22:14:01+00:00\", 0.153333, 2], [2318, \"terris-citizen\", \"2025-01-23 21:49:57+00:00\", \"2025-01-23 23:00:21+00:00\", 87.686667, \"2025-01-27 18:37:17+00:00\", 92.788889, 1], [2317, \"GonzaGr92\", \"2025-01-23 21:33:35+00:00\", \"2025-01-23 21:33:35+00:00\", 0.176944, \"2025-01-24 18:15:29+00:00\", 20.698333, 3], [2316, \"facarrizo24\", \"2025-01-23 21:04:16+00:00\", \"2025-01-23 21:04:16+00:00\", 0.083611, \"2025-01-24 13:52:26+00:00\", 16.802778, 2], [2315, \"marticks\", \"2025-01-23 20:21:06+00:00\", \"2025-01-23 20:21:06+00:00\", 0.013889, \"2025-01-23 20:39:28+00:00\", 0.306111, 2], [2314, \"jingyufanclub\", \"2025-01-23 19:02:34+00:00\", \"2025-01-23 19:02:34+00:00\", 0.172222, \"2025-01-23 19:36:34+00:00\", 0.566667, 1], [2313, \"marticks\", \"2025-01-23 16:28:23+00:00\", \"2025-01-23 16:28:23+00:00\", 0.478056, \"2025-01-23 17:22:06+00:00\", 0.895278, 1], [2312, \"pnieloud\", \"2025-01-23 15:44:53+00:00\", \"2025-01-23 15:44:53+00:00\", 0.319167, \"2025-01-23 16:15:24+00:00\", 0.508611, 1], [2311, \"GonzaGr92\", \"2025-01-23 15:38:03+00:00\", \"2025-01-23 15:38:03+00:00\", 25.613056, \"2025-01-24 17:57:06+00:00\", 26.3175, 1], [2310, \"marticks\", \"2025-01-23 12:33:28+00:00\", \"2025-01-23 12:33:28+00:00\", 1.272222, \"2025-01-23 13:50:11+00:00\", 1.278611, 1], [2309, \"carolinaspina\", \"2025-01-23 12:28:19+00:00\", \"2025-01-23 12:28:19+00:00\", 0.028056, \"2025-01-23 13:09:42+00:00\", 0.689722, 2], [2308, \"rarchilach\", \"2025-01-23 06:34:58+00:00\", \"2025-01-23 06:34:58+00:00\", 5.013889, \"2025-01-23 16:56:40+00:00\", 10.361667, 3], [2307, \"ddwang\", \"2025-01-23 02:21:06+00:00\", \"2025-01-23 02:21:06+00:00\", 1.171667, \"2025-01-29 21:55:39+00:00\", 163.575833, 3], [2306, \"pnieloud\", \"2025-01-22 19:26:17+00:00\", \"2025-01-22 19:26:17+00:00\", 0.296389, \"2025-01-22 21:14:15+00:00\", 1.799444, 2], [2305, \"marticks\", \"2025-01-22 17:53:52+00:00\", \"2025-01-22 17:53:52+00:00\", 0.567778, \"2025-01-22 18:44:39+00:00\", 0.846389, 1], [2304, \"carolinaspina\", \"2025-01-22 12:41:32+00:00\", \"2025-01-22 12:41:32+00:00\", 0.695, \"2025-01-22 13:25:09+00:00\", 0.726944, 1], [2303, \"carolinaspina\", \"2025-01-22 11:55:42+00:00\", \"2025-01-22 11:55:42+00:00\", 9.819722, \"2025-01-23 13:23:12+00:00\", 25.458333, 2], [2302, \"facarrizo24\", \"2025-01-22 04:10:38+00:00\", \"2025-01-22 18:44:28+00:00\", 46.310278, \"2025-01-24 19:31:26+00:00\", 63.346667, 1], [2301, \"terris-citizen\", \"2025-01-21 23:33:34+00:00\", \"2025-01-22 01:17:52+00:00\", 14.276944, \"2025-01-22 23:38:19+00:00\", 24.079167, 2], [2300, \"carolinaspina\", \"2025-01-21 15:22:07+00:00\", \"2025-01-21 15:22:07+00:00\", 0.361111, \"2025-01-21 15:49:40+00:00\", 0.459167, 1], [2299, \"GonzaGr92\", \"2025-01-21 14:31:49+00:00\", \"2025-01-21 14:31:49+00:00\", 7.335556, \"2025-01-22 19:59:21+00:00\", 29.458889, 1], [2298, \"GonzaGr92\", \"2025-01-21 13:49:48+00:00\", \"2025-01-21 13:49:48+00:00\", 8.006111, \"2025-01-22 18:41:53+00:00\", 28.868056, 1], [2297, \"slee4343\", \"2025-01-21 01:19:06+00:00\", \"2025-01-21 16:18:10+00:00\", 141.697222, \"2025-01-27 17:33:12+00:00\", 160.235, 2], [2296, \"GonzaGr92\", \"2025-01-20 22:24:44+00:00\", \"2025-01-20 22:24:44+00:00\", 0.476111, \"2025-01-20 23:10:08+00:00\", 0.756667, 1], [2295, \"GonzaGr92\", \"2025-01-20 22:16:16+00:00\", \"2025-01-20 22:16:16+00:00\", 0.628611, \"2025-01-21 13:51:10+00:00\", 15.581667, 1], [2294, \"marticks\", \"2025-01-20 15:58:08+00:00\", \"2025-01-20 15:58:08+00:00\", 1.357778, \"2025-01-20 17:19:51+00:00\", 1.361944, 1], [2293, \"pnieloud\", \"2025-01-20 14:43:37+00:00\", \"2025-01-20 14:43:37+00:00\", 0.044722, \"2025-01-20 14:54:03+00:00\", 0.173889, 2], [2292, \"carolinaspina\", \"2025-01-20 11:50:33+00:00\", \"2025-01-20 11:50:33+00:00\", 2.1575, \"2025-01-20 13:26:41+00:00\", 1.602222, 1], [2291, \"terris-citizen\", \"2025-01-18 23:46:57+00:00\", \"2025-01-19 01:58:24+00:00\", 36.026667, \"2025-01-21 16:31:46+00:00\", 26.529444, 7], [2290, \"GonzaGr92\", \"2025-01-17 22:31:54+00:00\", \"2025-01-17 22:31:54+00:00\", 70.843333, \"2025-01-20 21:45:25+00:00\", 7.756944, 1], [2289, \"GonzaGr92\", \"2025-01-17 21:45:57+00:00\", \"2025-01-17 21:45:57+00:00\", 64.234167, \"2025-01-20 21:23:45+00:00\", 7.395833, 1], [2288, \"GonzaGr92\", \"2025-01-17 21:06:47+00:00\", \"2025-01-17 21:06:47+00:00\", 64.886944, \"2025-01-20 21:23:13+00:00\", 7.386944, 1], [2287, \"GonzaGr92\", \"2025-01-17 20:13:36+00:00\", \"2025-01-17 20:13:36+00:00\", 73.186944, \"2025-01-20 21:25:47+00:00\", 7.429722, 1], [2286, \"GonzaGr92\", \"2025-01-17 20:05:33+00:00\", \"2025-01-17 20:05:33+00:00\", 73.393889, \"2025-01-20 21:45:10+00:00\", 7.752778, 1], [2285, \"jingyufanclub\", \"2025-01-17 19:28:30+00:00\", \"2025-01-17 19:28:30+00:00\", 0.108611, \"2025-01-20 11:43:20+00:00\", 64.247222, 1], [2284, \"GonzaGr92\", \"2025-01-17 18:25:50+00:00\", \"2025-01-17 18:25:50+00:00\", 0.125833, \"2025-01-17 18:35:52+00:00\", 0.167222, 1], [2283, \"pnieloud\", \"2025-01-17 16:11:24+00:00\", \"2025-01-17 16:11:24+00:00\", 0.0275, \"2025-01-17 16:28:03+00:00\", 0.2775, 2], [2282, \"pnieloud\", \"2025-01-17 15:25:46+00:00\", \"2025-01-17 15:25:46+00:00\", 0.025556, \"2025-01-17 15:38:17+00:00\", 0.208611, 2], [2281, \"carolinaspina\", \"2025-01-17 12:43:38+00:00\", \"2025-01-17 12:43:38+00:00\", 2.2975, \"2025-01-17 15:35:43+00:00\", 2.868056, 2], [2280, \"rarchilach\", \"2025-01-17 06:26:19+00:00\", \"2025-01-17 06:26:19+00:00\", 6.047222, \"2025-01-17 23:19:57+00:00\", 16.893889, 7], [2279, \"juanfeldman-ciitizen\", \"2025-01-16 22:53:56+00:00\", \"2025-01-16 22:53:56+00:00\", 0.146389, \"2025-01-16 23:09:03+00:00\", 0.251944, 1], [2278, \"marticks\", \"2025-01-16 21:43:30+00:00\", \"2025-01-16 21:43:30+00:00\", 0.077222, \"2025-01-16 22:03:25+00:00\", 0.331944, 1], [2276, \"facarrizo24\", \"2025-01-16 19:26:32+00:00\", \"2025-01-16 19:26:32+00:00\", 0.058611, \"2025-01-16 19:31:45+00:00\", 0.086944, 1], [2275, \"slee4343\", \"2025-01-16 15:56:17+00:00\", \"2025-01-16 15:56:17+00:00\", 0.996389, \"2025-01-16 17:15:40+00:00\", 1.323056, 1], [2274, \"carolinaspina\", \"2025-01-16 13:08:44+00:00\", \"2025-01-16 13:08:44+00:00\", 3.268889, \"2025-01-17 11:29:36+00:00\", 22.347778, 1], [2273, \"pnieloud\", \"2025-01-16 10:35:52+00:00\", \"2025-01-16 10:35:52+00:00\", 0.518889, \"2025-01-16 11:31:12+00:00\", 0.922222, 1], [2272, \"facarrizo24\", \"2025-01-15 22:28:06+00:00\", \"2025-01-15 22:28:06+00:00\", 13.958611, \"2025-01-16 13:01:31+00:00\", 14.556944, 1], [2271, \"carolinaspina\", \"2025-01-15 20:12:53+00:00\", \"2025-01-15 20:12:53+00:00\", 42.4675, \"2025-01-17 19:21:13+00:00\", 47.138889, 1], [2270, \"pnieloud\", \"2025-01-15 17:27:16+00:00\", \"2025-01-15 17:27:16+00:00\", 0.135833, \"2025-01-15 23:55:53+00:00\", 6.476944, 1], [2269, \"pnieloud\", \"2025-01-15 15:49:10+00:00\", \"2025-01-15 15:49:10+00:00\", 0.958611, \"2025-01-15 16:57:21+00:00\", 1.136389, 1], [2268, \"pnieloud\", \"2025-01-15 14:52:06+00:00\", \"2025-01-15 14:52:06+00:00\", 0.115833, \"2025-01-15 15:10:14+00:00\", 0.302222, 1], [2267, \"carolinaspina\", \"2025-01-15 11:44:13+00:00\", \"2025-01-15 11:44:13+00:00\", 7.463889, \"2025-01-15 19:30:16+00:00\", 7.7675, 1], [2266, \"rarchilach\", \"2025-01-15 08:14:52+00:00\", \"2025-01-15 08:14:52+00:00\", 5.178611, \"2025-01-15 22:04:05+00:00\", 13.820278, 5], [2265, \"terris-citizen\", \"2025-01-14 21:28:54+00:00\", \"2025-01-14 23:21:03+00:00\", 42.410278, \"2025-01-16 18:31:01+00:00\", 45.035278, 1], [2262, \"jingyufanclub\", \"2025-01-14 19:43:50+00:00\", \"2025-01-14 19:43:50+00:00\", 16.031111, \"2025-01-15 17:36:18+00:00\", 21.874444, 1], [2261, \"zvik2004\", \"2025-01-14 16:56:05+00:00\", \"2025-01-14 16:56:05+00:00\", 0.251111, \"2025-01-14 17:47:41+00:00\", 0.86, 2], [2260, \"marticks\", \"2025-01-14 14:11:46+00:00\", \"2025-01-14 14:11:46+00:00\", 0.261389, \"2025-01-14 14:27:46+00:00\", 0.266667, 1], [2259, \"jingyufanclub\", \"2025-01-13 19:55:27+00:00\", \"2025-01-13 19:55:27+00:00\", 15.333056, \"2025-01-14 14:49:05+00:00\", 18.893889, 1], [2257, \"pnieloud\", \"2025-01-13 15:35:22+00:00\", \"2025-01-13 15:35:22+00:00\", 0.081667, \"2025-01-13 15:42:53+00:00\", 0.125278, 1], [2256, \"carolinaspina\", \"2025-01-13 11:57:55+00:00\", \"2025-01-13 11:57:55+00:00\", 3.878611, \"2025-01-13 16:10:54+00:00\", 2.181667, 1], [2255, \"phmurias-ciitizen\", \"2025-01-10 21:12:29+00:00\", \"2025-01-10 21:12:29+00:00\", 64.791944, \"2025-01-13 12:28:50+00:00\", 63.2725, 1], [2254, \"carolinaspina\", \"2025-01-10 20:11:29+00:00\", \"2025-01-10 20:11:29+00:00\", 65.808611, \"2025-01-13 11:19:25+00:00\", 63.132222, 2], [2253, \"jingyufanclub\", \"2025-01-10 18:41:44+00:00\", \"2025-01-10 18:41:44+00:00\", 67.304444, \"2025-01-13 15:26:48+00:00\", 68.751111, 1], [2252, \"GonzaGr92\", \"2025-01-10 16:11:31+00:00\", \"2025-01-10 16:11:31+00:00\", 2.4525, \"2025-01-15 17:10:23+00:00\", 120.981111, 6], [2251, \"terris-citizen\", \"2025-01-09 22:51:32+00:00\", \"2025-01-12 06:07:45+00:00\", 31.870833, \"2025-01-14 16:41:11+00:00\", 113.8275, 5], [2250, \"slee4343\", \"2025-01-09 22:32:34+00:00\", \"2025-01-10 00:26:44+00:00\", 1.5575, \"2025-01-10 16:50:06+00:00\", 18.292222, 2], [2249, \"GonzaGr92\", \"2025-01-09 20:36:20+00:00\", \"2025-01-09 20:36:20+00:00\", 17.236667, \"2025-01-10 14:56:21+00:00\", 18.333611, 1], [2248, \"GonzaGr92\", \"2025-01-09 19:34:26+00:00\", \"2025-01-09 19:34:26+00:00\", 0.155833, \"2025-01-09 19:45:50+00:00\", 0.19, 1]];\n",
              "\n",
              "        // Define the dt_args\n",
              "        let dt_args = {\"layout\": {\"topStart\": \"pageLength\", \"topEnd\": \"search\", \"bottomStart\": \"info\", \"bottomEnd\": \"paging\"}, \"order\": [], \"warn_on_selected_rows_not_rendered\": true};\n",
              "        dt_args[\"data\"] = data;\n",
              "\n",
              "        \n",
              "        new DataTable(table, dt_args);\n",
              "    });\n",
              "</script>\n"
            ]
          },
          "metadata": {}
        },
        {
          "output_type": "display_data",
          "data": {
            "text/plain": [
              "<Figure size 1000x500 with 1 Axes>"
            ],
            "image/png": "[encoded data removed]"
          },
          "metadata": {}
        },
        {
          "output_type": "display_data",
          "data": {
            "text/plain": [
              "<Figure size 1000x500 with 1 Axes>"
            ],
            "image/png": "[encoded data removed]"
          },
          "metadata": {}
        }
      ],
      "source": [
        "# Display charts\n",
        "import ace_tools_open as tools\n",
        "import matplotlib.pyplot as plt\n",
        "\n",
        "# Remove outliers for better visualization\n",
        "df_filtered = df[pd.notna(df[\"Time to Merge (hrs)\"])].query('`Time to Merge (hrs)` < `Time to Merge (hrs)`.quantile(0.95)')\n",
        "df_filtered = df_filtered[df_filtered[\"Time to First Review (hrs)\"] < df_filtered[\"Time to First Review (hrs)\"].quantile(0.95)]\n",
        "\n",
        "tools.display_dataframe_to_user(name=\"PRs\", dataframe=df)\n",
        "\n",
        "# Plot histograms\n",
        "plt.figure(figsize=(10, 5))\n",
        "plt.hist(df_filtered[\"Time to First Review (hrs)\"].dropna(), bins=20, alpha=0.7)\n",
        "plt.xlabel(\"Time to First Review (hours)\")\n",
        "plt.ylabel(\"Number of PRs\")\n",
        "plt.title(\"Distribution of First Review Times\")\n",
        "plt.show()\n",
        "\n",
        "plt.figure(figsize=(10, 5))\n",
        "plt.hist(df_filtered[\"Time to Merge (hrs)\"].dropna(), bins=20, alpha=0.7)\n",
        "plt.xlabel(\"Time to Merge (hours)\")\n",
        "plt.ylabel(\"Number of PRs\")\n",
        "plt.title(\"Distribution of PR Merge Times\")\n",
        "plt.show()"
      ]
    },
    {
      "cell_type": "code",
      "execution_count": 73,
      "metadata": {
        "colab": {
          "base_uri": "https://localhost:8080/"
        },
        "id": "d0cxfguYvT0g",
        "outputId": "3bcacad2-0de3-48fc-e132-3d94c0eaa4dc"
      },
      "outputs": [
        {
          "output_type": "stream",
          "name": "stdout",
          "text": [
            "\n",
            "Time to First Review Analysis:\n",
            "--------------------------------------------------\n",
            "< 1 day: 181 PRs (85.0%)\n",
            "1-2 days: 9 PRs (4.2%)\n",
            "2-3 days: 14 PRs (6.6%)\n",
            "3-4 days: 5 PRs (2.3%)\n",
            "> 4 days: 4 PRs (1.9%)\n",
            "\n",
            "Time to Merge Analysis:\n",
            "--------------------------------------------------\n",
            "< 1 day: 167 PRs (80.7%)\n",
            "1-2 days: 18 PRs (8.7%)\n",
            "2-3 days: 10 PRs (4.8%)\n",
            "3-4 days: 2 PRs (1.0%)\n",
            "> 4 days: 10 PRs (4.8%)\n"
          ]
        }
      ],
      "source": [
        "# time range analysis\n",
        "def analyze_time_ranges(series, metric_name):\n",
        "    total = len(series.dropna())\n",
        "\n",
        "    # Calculate counts and percentages for each range\n",
        "    ranges = {\n",
        "        \"< 1 day\": (series <= 24).sum(),\n",
        "        \"1-2 days\": ((series > 24) & (series <= 48)).sum(),\n",
        "        \"2-3 days\": ((series > 48) & (series <= 72)).sum(),\n",
        "        \"3-4 days\": ((series > 72) & (series <= 96)).sum(),\n",
        "        \"> 4 days\": (series > 96).sum()\n",
        "    }\n",
        "\n",
        "    # Convert to percentages\n",
        "    percentages = {k: (v/total * 100) for k, v in ranges.items()}\n",
        "\n",
        "    print(f\"\\n{metric_name} Analysis:\")\n",
        "    print(\"-\" * 50)\n",
        "    for range_name, count in ranges.items():\n",
        "        print(f\"{range_name}: {count} PRs ({percentages[range_name]:.1f}%)\")\n",
        "\n",
        "# Analyze both metrics\n",
        "analyze_time_ranges(df[\"Time to First Review (hrs)\"], \"Time to First Review\")\n",
        "analyze_time_ranges(df[\"Time to Merge (hrs)\"], \"Time to Merge\")"
      ]
    },
    {
      "cell_type": "code",
      "execution_count": 74,
      "metadata": {
        "colab": {
          "base_uri": "https://localhost:8080/",
          "height": 1000
        },
        "id": "qyWeVRmkvT0g",
        "outputId": "b7e067c4-66b7-4ac8-c8e5-17e345a581d9"
      },
      "outputs": [
        {
          "output_type": "display_data",
          "data": {
            "text/plain": [
              "<Figure size 1000x600 with 1 Axes>"
            ],
            "image/png": "[encoded data removed]"
          },
          "metadata": {}
        },
        {
          "output_type": "display_data",
          "data": {
            "text/plain": [
              "<Figure size 1000x600 with 1 Axes>"
            ],
            "image/png": "[encoded data removed]"
          },
          "metadata": {}
        }
      ],
      "source": [
        "# Time to first review and merge distribution charts\n",
        "def plot_time_ranges(df, metric_col, title):\n",
        "    total = len(df[metric_col].dropna())\n",
        "\n",
        "    ranges = {\n",
        "        \"< 1 day\": (df[metric_col] <= 24).sum() / total * 100,\n",
        "        \"1-2 days\": ((df[metric_col] > 24) & (df[metric_col] <= 48)).sum() / total * 100,\n",
        "        \"2-3 days\": ((df[metric_col] > 48) & (df[metric_col] <= 72)).sum() / total * 100,\n",
        "        \"3-4 days\": ((df[metric_col] > 72) & (df[metric_col] <= 96)).sum() / total * 100,\n",
        "        \"> 4 days\": (df[metric_col] > 96).sum() / total * 100\n",
        "    }\n",
        "\n",
        "    plt.figure(figsize=(10, 6))\n",
        "    plt.bar(ranges.keys(), ranges.values())\n",
        "    plt.title(title)\n",
        "    plt.ylabel(\"Percentage of PRs\")\n",
        "    plt.xticks(rotation=45)\n",
        "    plt.tight_layout()\n",
        "    plt.show()\n",
        "\n",
        "# Plot both metrics\n",
        "plot_time_ranges(df, \"Time to First Review (hrs)\", \"Time to First Review Distribution\")\n",
        "plot_time_ranges(df, \"Time to Merge (hrs)\", \"Time to Merge Distribution\")"
      ]
    },
    {
      "cell_type": "code",
      "execution_count": 75,
      "metadata": {
        "colab": {
          "base_uri": "https://localhost:8080/"
        },
        "id": "kgdzlGbKvT0g",
        "outputId": "acf66268-39d1-42f7-a31d-bb3911b3cd04"
      },
      "outputs": [
        {
          "output_type": "stream",
          "name": "stdout",
          "text": [
            "All PRs\n",
            "                    Author  Number of PRs\n",
            "0                GonzaGr92             42\n",
            "2            carolinaspina             32\n",
            "10                pnieloud             27\n",
            "7                 marticks             17\n",
            "5            jingyufanclub             16\n",
            "12                slee4343             15\n",
            "13          terris-citizen             15\n",
            "1   brian-mcdonell-invitae             11\n",
            "4              facarrizo24             11\n",
            "14                zvik2004             11\n",
            "11              rarchilach             10\n",
            "3                   ddwang              2\n",
            "9        phmurias-ciitizen              2\n",
            "6     juanfeldman-ciitizen              1\n",
            "8              mcrasso-cii              1\n"
          ]
        }
      ],
      "source": [
        "authors = (df.groupby('Author')\n",
        "            .size()\n",
        "            .reset_index(name='Number of PRs')\n",
        "            .sort_values('Number of PRs', ascending=False))\n",
        "\n",
        "print(\"All PRs\")\n",
        "print(authors)"
      ]
    },
    {
      "cell_type": "code",
      "execution_count": 76,
      "metadata": {
        "colab": {
          "base_uri": "https://localhost:8080/"
        },
        "id": "mB9kd8epvT0g",
        "outputId": "8670ba12-60c5-41d7-cbd0-9cc9bd8f4458"
      },
      "outputs": [
        {
          "output_type": "stream",
          "name": "stdout",
          "text": [
            "\n",
            "Merged PRs\n",
            "                    Author  Number of PRs\n",
            "0                GonzaGr92             42\n",
            "2            carolinaspina             32\n",
            "10                pnieloud             26\n",
            "5            jingyufanclub             16\n",
            "7                 marticks             16\n",
            "12                slee4343             15\n",
            "13          terris-citizen             13\n",
            "1   brian-mcdonell-invitae             11\n",
            "14                zvik2004             11\n",
            "4              facarrizo24             10\n",
            "11              rarchilach             10\n",
            "9        phmurias-ciitizen              2\n",
            "3                   ddwang              1\n",
            "6     juanfeldman-ciitizen              1\n",
            "8              mcrasso-cii              1\n"
          ]
        }
      ],
      "source": [
        "authors = (df[df['Merged At'].notna()]  # Filter out rows where Merged At is None\n",
        "            .groupby('Author')\n",
        "            .size()\n",
        "            .reset_index(name='Number of PRs')\n",
        "            .sort_values('Number of PRs', ascending=False))\n",
        "\n",
        "print(\"\\nMerged PRs\")\n",
        "print(authors)"
      ]
    },
    {
      "cell_type": "code",
      "execution_count": 77,
      "metadata": {
        "colab": {
          "base_uri": "https://localhost:8080/"
        },
        "id": "_mOVo0UCvT0h",
        "outputId": "cd23ee38-59e1-4edb-cdb0-99adf0bd0826"
      },
      "outputs": [
        {
          "output_type": "stream",
          "name": "stdout",
          "text": [
            "Top 5 Authors by Avg Time to First Review:\n",
            "------------------------------------------------------------\n",
            "                   Avg Time to First Review (hrs)  \\\n",
            "Author                                              \n",
            "phmurias-ciitizen                           93.94   \n",
            "terris-citizen                              33.49   \n",
            "slee4343                                    22.85   \n",
            "jingyufanclub                               20.12   \n",
            "GonzaGr92                                   15.97   \n",
            "\n",
            "                   Median Time to First Review (hrs)  \\\n",
            "Author                                                 \n",
            "phmurias-ciitizen                              93.94   \n",
            "terris-citizen                                 24.47   \n",
            "slee4343                                        3.00   \n",
            "jingyufanclub                                   6.95   \n",
            "GonzaGr92                                       0.90   \n",
            "\n",
            "                   Max Time to First Review (hrs)  \n",
            "Author                                             \n",
            "phmurias-ciitizen                          123.08  \n",
            "terris-citizen                              89.34  \n",
            "slee4343                                   141.70  \n",
            "jingyufanclub                              136.74  \n",
            "GonzaGr92                                  141.76  \n",
            "\n",
            "Top 5 Authors by Avg Time to Merge:\n",
            "------------------------------------------------------------\n",
            "                   Avg Time to Merge (hrs)  Median Time to Merge (hrs)  \\\n",
            "Author                                                                   \n",
            "ddwang                              163.58                      163.58   \n",
            "phmurias-ciitizen                   105.97                      105.97   \n",
            "terris-citizen                       71.38                       40.31   \n",
            "jingyufanclub                        29.78                       18.19   \n",
            "slee4343                             23.38                        2.99   \n",
            "\n",
            "                   Max Time to Merge (hrs)  \n",
            "Author                                      \n",
            "ddwang                              163.58  \n",
            "phmurias-ciitizen                   148.68  \n",
            "terris-citizen                      237.33  \n",
            "jingyufanclub                       139.01  \n",
            "slee4343                            160.24  \n"
          ]
        }
      ],
      "source": [
        "# Calculate metrics for time to first review by author\n",
        "review_stats = df.groupby('Author').agg({\n",
        "    'Time to First Review (hrs)': ['mean', 'median', 'max']\n",
        "}).sort_values(('Time to First Review (hrs)', 'mean'), ascending=False).head(5)\n",
        "\n",
        "# Calculate metrics for time to merge by author\n",
        "merge_stats = df.groupby('Author').agg({\n",
        "    'Time to Merge (hrs)': ['mean', 'median', 'max']\n",
        "}).sort_values(('Time to Merge (hrs)', 'mean'), ascending=False).head(5)\n",
        "\n",
        "# Format the tables\n",
        "review_stats.columns = ['Avg Time to First Review (hrs)', 'Median Time to First Review (hrs)', 'Max Time to First Review (hrs)']\n",
        "merge_stats.columns = ['Avg Time to Merge (hrs)', 'Median Time to Merge (hrs)', 'Max Time to Merge (hrs)']\n",
        "\n",
        "print(\"Top 5 Authors by Avg Time to First Review:\")\n",
        "print(\"-\" * 60)\n",
        "print(review_stats.round(2))\n",
        "\n",
        "print(\"\\nTop 5 Authors by Avg Time to Merge:\")\n",
        "print(\"-\" * 60)\n",
        "print(merge_stats.round(2))"
      ]
    },
    {
      "cell_type": "code",
      "execution_count": 78,
      "metadata": {
        "colab": {
          "base_uri": "https://localhost:8080/"
        },
        "id": "_YT9TYSAvT0h",
        "outputId": "37a46edb-5960-4f08-cc5e-600ffe0149b9"
      },
      "outputs": [
        {
          "output_type": "stream",
          "name": "stdout",
          "text": [
            "Top 5 Authors by Median Time to First Review:\n",
            "------------------------------------------------------------\n",
            "                   Avg Time to First Review (hrs)  \\\n",
            "Author                                              \n",
            "phmurias-ciitizen                           93.94   \n",
            "terris-citizen                              33.49   \n",
            "jingyufanclub                               20.12   \n",
            "rarchilach                                   6.36   \n",
            "mcrasso-cii                                  3.75   \n",
            "\n",
            "                   Median Time to First Review (hrs)  \\\n",
            "Author                                                 \n",
            "phmurias-ciitizen                              93.94   \n",
            "terris-citizen                                 24.47   \n",
            "jingyufanclub                                   6.95   \n",
            "rarchilach                                      5.32   \n",
            "mcrasso-cii                                     3.75   \n",
            "\n",
            "                   Max Time to First Review (hrs)  \n",
            "Author                                             \n",
            "phmurias-ciitizen                          123.08  \n",
            "terris-citizen                              89.34  \n",
            "jingyufanclub                              136.74  \n",
            "rarchilach                                  15.85  \n",
            "mcrasso-cii                                  3.75  \n",
            "\n",
            "Top 5 Authors by Median Time to Merge:\n",
            "------------------------------------------------------------\n",
            "                   Avg Time to Merge (hrs)  Median Time to Merge (hrs)  \\\n",
            "Author                                                                   \n",
            "ddwang                              163.58                      163.58   \n",
            "phmurias-ciitizen                   105.97                      105.97   \n",
            "terris-citizen                       71.38                       40.31   \n",
            "jingyufanclub                        29.78                       18.19   \n",
            "facarrizo24                          20.69                       15.68   \n",
            "\n",
            "                   Max Time to Merge (hrs)  \n",
            "Author                                      \n",
            "ddwang                              163.58  \n",
            "phmurias-ciitizen                   148.68  \n",
            "terris-citizen                      237.33  \n",
            "jingyufanclub                       139.01  \n",
            "facarrizo24                          63.35  \n"
          ]
        }
      ],
      "source": [
        "review_stats = df.groupby('Author').agg({\n",
        "    'Time to First Review (hrs)': ['mean', 'median', 'max']\n",
        "}).sort_values(('Time to First Review (hrs)', 'median'), ascending=False).head(5)\n",
        "\n",
        "# Calculate metrics for time to merge by author\n",
        "merge_stats = df.groupby('Author').agg({\n",
        "    'Time to Merge (hrs)': ['mean', 'median', 'max']\n",
        "}).sort_values(('Time to Merge (hrs)', 'median'), ascending=False).head(5)\n",
        "\n",
        "# Format the tables\n",
        "review_stats.columns = ['Avg Time to First Review (hrs)', 'Median Time to First Review (hrs)', 'Max Time to First Review (hrs)']\n",
        "merge_stats.columns = ['Avg Time to Merge (hrs)', 'Median Time to Merge (hrs)', 'Max Time to Merge (hrs)']\n",
        "\n",
        "print(\"Top 5 Authors by Median Time to First Review:\")\n",
        "print(\"-\" * 60)\n",
        "print(review_stats.round(2))\n",
        "\n",
        "print(\"\\nTop 5 Authors by Median Time to Merge:\")\n",
        "print(\"-\" * 60)\n",
        "print(merge_stats.round(2))"
      ]
    },
    {
      "cell_type": "code",
      "execution_count": 79,
      "metadata": {
        "colab": {
          "base_uri": "https://localhost:8080/"
        },
        "id": "RMXKiToMvT0h",
        "outputId": "02171a52-3f02-45a7-f8ad-593c7962555b"
      },
      "outputs": [
        {
          "output_type": "stream",
          "name": "stdout",
          "text": [
            "Top 5 Authors by Max Time to First Review:\n",
            "------------------------------------------------------------\n",
            "                   Avg Time to First Review (hrs)  \\\n",
            "Author                                              \n",
            "GonzaGr92                                   15.97   \n",
            "slee4343                                    22.85   \n",
            "jingyufanclub                               20.12   \n",
            "phmurias-ciitizen                           93.94   \n",
            "terris-citizen                              33.49   \n",
            "\n",
            "                   Median Time to First Review (hrs)  \\\n",
            "Author                                                 \n",
            "GonzaGr92                                       0.90   \n",
            "slee4343                                        3.00   \n",
            "jingyufanclub                                   6.95   \n",
            "phmurias-ciitizen                              93.94   \n",
            "terris-citizen                                 24.47   \n",
            "\n",
            "                   Max Time to First Review (hrs)  \n",
            "Author                                             \n",
            "GonzaGr92                                  141.76  \n",
            "slee4343                                   141.70  \n",
            "jingyufanclub                              136.74  \n",
            "phmurias-ciitizen                          123.08  \n",
            "terris-citizen                              89.34  \n",
            "\n",
            "Top 5 Authors by Max Time to Merge:\n",
            "------------------------------------------------------------\n",
            "                   Avg Time to Merge (hrs)  Median Time to Merge (hrs)  \\\n",
            "Author                                                                   \n",
            "terris-citizen                       71.38                       40.31   \n",
            "ddwang                              163.58                      163.58   \n",
            "GonzaGr92                            16.98                        4.10   \n",
            "slee4343                             23.38                        2.99   \n",
            "phmurias-ciitizen                   105.97                      105.97   \n",
            "\n",
            "                   Max Time to Merge (hrs)  \n",
            "Author                                      \n",
            "terris-citizen                      237.33  \n",
            "ddwang                              163.58  \n",
            "GonzaGr92                           162.71  \n",
            "slee4343                            160.24  \n",
            "phmurias-ciitizen                   148.68  \n"
          ]
        }
      ],
      "source": [
        "review_stats = df.groupby('Author').agg({\n",
        "    'Time to First Review (hrs)': ['mean', 'median', 'max']\n",
        "}).sort_values(('Time to First Review (hrs)', 'max'), ascending=False).head(5)\n",
        "\n",
        "# Calculate metrics for time to merge by author\n",
        "merge_stats = df.groupby('Author').agg({\n",
        "    'Time to Merge (hrs)': ['mean', 'median', 'max']\n",
        "}).sort_values(('Time to Merge (hrs)', 'max'), ascending=False).head(5)\n",
        "\n",
        "# Format the tables\n",
        "review_stats.columns = ['Avg Time to First Review (hrs)', 'Median Time to First Review (hrs)', 'Max Time to First Review (hrs)']\n",
        "merge_stats.columns = ['Avg Time to Merge (hrs)', 'Median Time to Merge (hrs)', 'Max Time to Merge (hrs)']\n",
        "\n",
        "print(\"Top 5 Authors by Max Time to First Review:\")\n",
        "print(\"-\" * 60)\n",
        "print(review_stats.round(2))\n",
        "\n",
        "print(\"\\nTop 5 Authors by Max Time to Merge:\")\n",
        "print(\"-\" * 60)\n",
        "print(merge_stats.round(2))"
      ]
    }
  ],
  "metadata": {
    "kernelspec": {
      "display_name": "Python 3",
      "language": "python",
      "name": "python3"
    },
    "language_info": {
      "codemirror_mode": {
        "name": "ipython",
        "version": 3
      },
      "file_extension": ".py",
      "mimetype": "text/x-python",
      "name": "python",
      "nbconvert_exporter": "python",
      "pygments_lexer": "ipython3",
      "version": "3.12.6"
    },
    "colab": {
      "provenance": [],
      "include_colab_link": true
    }
  },
  "nbformat": 4,
  "nbformat_minor": 0
}
