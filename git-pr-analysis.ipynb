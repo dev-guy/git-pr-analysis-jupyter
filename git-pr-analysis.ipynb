{
  "cells": [
    {
      "cell_type": "markdown",
      "metadata": {
        "id": "view-in-github",
        "colab_type": "text"
      },
      "source": [
        "<a href=\"https://colab.research.google.com/gist/dev-guy/0ad5c4d165de90bde4752bc5b78a7c17/git-pr-analysis.ipynb\" target=\"_parent\"><img src=\"https://colab.research.google.com/assets/colab-badge.svg\" alt=\"Open In Colab\"/></a>"
      ]
    },
    {
      "cell_type": "markdown",
      "source": [
        "# Install Dependencies"
      ],
      "metadata": {
        "id": "64QYifsi4ulX"
      }
    },
    {
      "cell_type": "code",
      "execution_count": null,
      "metadata": {
        "id": "cUHfwsPFvT0b"
      },
      "outputs": [],
      "source": [
        "!pip install PyGithub pandas matplotlib ace-tools-open pytz tabulate"
      ]
    },
    {
      "cell_type": "markdown",
      "metadata": {
        "id": "DHQQkw_5vT0f"
      },
      "source": [
        "# Git Config\n",
        "\n",
        "Be careful sharing this notebook!"
      ]
    },
    {
      "cell_type": "code",
      "execution_count": null,
      "metadata": {
        "id": "bP16WwRFvT0f"
      },
      "outputs": [],
      "source": [
        "GITHUB_TOKEN = \"...\"\n",
        "# Comma-delimited list\n",
        "REPO_NAMES = \"foo/bar\""
      ]
    },
    {
      "cell_type": "markdown",
      "metadata": {
        "id": "da1hHV-evT0e"
      },
      "source": [
        "# Specify How Much PR History to Process"
      ]
    },
    {
      "cell_type": "code",
      "execution_count": null,
      "metadata": {
        "id": "jYvQl4ttvT0e"
      },
      "outputs": [],
      "source": [
        "# 30 days of data takes about 5 minutes\n",
        "max_days = 45\n",
        "per_page = 50  # Max per request\n",
        "max_pages = 500 # Prevent infinite loop"
      ]
    },
    {
      "cell_type": "code",
      "source": [
        "# Calculate the cutoff date\n",
        "from datetime import datetime, timedelta\n",
        "import pytz\n",
        "\n",
        "cutoff_date = datetime.now(pytz.UTC) - timedelta(days=max_days)\n",
        "\n",
        "print (f\"Processing {REPO_NAMES} for PRs after {cutoff_date}\")"
      ],
      "metadata": {
        "id": "7K8RhcLz4opb"
      },
      "execution_count": null,
      "outputs": []
    },
    {
      "cell_type": "markdown",
      "metadata": {
        "id": "KhIu2mnovT0d"
      },
      "source": [
        "# Function: If a PR is opened after 12 PM PST on a Friday, use Monday 6 AM PST as the PR creation date"
      ]
    },
    {
      "cell_type": "code",
      "execution_count": null,
      "metadata": {
        "id": "m2ENaeghvT0e"
      },
      "outputs": [],
      "source": [
        "# If a PR is opened after 12 PM PST on a Friday, use Monday 6 AM PST as the PR creation date\n",
        "def adjust_weekend_date(dt):\n",
        "    \"\"\"\n",
        "    Adjusts dates that fall on weekends to the following Monday 6 AM PST.\n",
        "\n",
        "    Args:\n",
        "        dt (datetime): Input datetime (should be timezone-aware)\n",
        "\n",
        "    Returns:\n",
        "        datetime: Either the original datetime or adjusted to following Monday 6 AM PST\n",
        "    \"\"\"\n",
        "    # Ensure we're working with PST timezone\n",
        "    pst_tz = pytz.timezone('America/Los_Angeles')\n",
        "    if dt.tzinfo is None:\n",
        "        dt = pst_tz.localize(dt)\n",
        "    else:\n",
        "        dt = dt.astimezone(pst_tz)\n",
        "\n",
        "    # Get the day of week (0 = Monday, 6 = Sunday)\n",
        "    weekday = dt.weekday()\n",
        "\n",
        "    # Create timestamp for the current day at 12 PM PST\n",
        "    noon_time = dt.replace(hour=12, minute=0, second=0, microsecond=0)\n",
        "\n",
        "    # Check if we're in the weekend window\n",
        "    is_weekend = False\n",
        "\n",
        "    if weekday == 4:  # Friday\n",
        "        is_weekend = dt >= noon_time\n",
        "    elif weekday == 5 or weekday == 6:  # Saturday or Sunday\n",
        "        is_weekend = True\n",
        "    elif weekday == 0:  # Monday\n",
        "        morning_time = dt.replace(hour=6, minute=0, second=0, microsecond=0)\n",
        "        is_weekend = dt < morning_time\n",
        "\n",
        "    if is_weekend:\n",
        "        # Calculate next Monday\n",
        "        days_until_monday = (7 - weekday) % 7\n",
        "        if weekday == 0:  # If Monday but before 6 AM\n",
        "            days_until_monday = 0\n",
        "\n",
        "        next_monday = dt + timedelta(days=days_until_monday)\n",
        "        return next_monday.replace(hour=6, minute=0, second=0, microsecond=0)\n",
        "\n",
        "    return dt"
      ]
    },
    {
      "cell_type": "code",
      "source": [
        "def test_adjust_weekend_date():\n",
        "    # Create timezone-aware test cases using explicit construction\n",
        "    pst_tz = pytz.timezone('America/Los_Angeles')\n",
        "\n",
        "    def create_pst_datetime(year, month, day, hour, minute):\n",
        "        # Helper function to create timezone-aware datetime in PST\n",
        "        naive_dt = datetime(year, month, day, hour, minute)\n",
        "        return pst_tz.localize(naive_dt)\n",
        "\n",
        "    test_cases = [\n",
        "        # Friday before noon (should not change)\n",
        "        (\n",
        "            create_pst_datetime(2025, 2, 21, 11, 0),\n",
        "            create_pst_datetime(2025, 2, 21, 11, 0)\n",
        "        ),\n",
        "\n",
        "        # Friday after noon (should go to Monday 6 AM)\n",
        "        (\n",
        "            create_pst_datetime(2025, 2, 21, 13, 0),\n",
        "            create_pst_datetime(2025, 2, 24, 6, 0)\n",
        "        ),\n",
        "\n",
        "        # Saturday (should go to Monday 6 AM)\n",
        "        (\n",
        "            create_pst_datetime(2025, 2, 22, 10, 0),\n",
        "            create_pst_datetime(2025, 2, 24, 6, 0)\n",
        "        ),\n",
        "\n",
        "        # Monday 5:59 AM (should go to Monday 6 AM)\n",
        "        (\n",
        "            create_pst_datetime(2025, 2, 24, 5, 59),\n",
        "            create_pst_datetime(2025, 2, 24, 6, 0)\n",
        "        ),\n",
        "\n",
        "        # Monday 6 AM (should not change)\n",
        "        (\n",
        "            create_pst_datetime(2025, 2, 24, 6, 0),\n",
        "            create_pst_datetime(2025, 2, 24, 6, 0)\n",
        "        ),\n",
        "\n",
        "        # Cross-month test: Friday May 30, 2025 2 PM PST to Monday June 2, 2025 6 AM PST\n",
        "        (\n",
        "            create_pst_datetime(2025, 5, 30, 14, 0),\n",
        "            create_pst_datetime(2025, 6, 2, 6, 0)\n",
        "        ),\n",
        "    ]\n",
        "\n",
        "    for input_dt, expected_dt in test_cases:\n",
        "        result = adjust_weekend_date(input_dt)\n",
        "        assert result == expected_dt, (\n",
        "            f\"Failed: Input: {input_dt}, Expected: {expected_dt}, Got: {result}\\n\"\n",
        "            f\"Input TZ: {input_dt.tzinfo}, Result TZ: {result.tzinfo}\"\n",
        "        )\n",
        "\n",
        "    print(\"All tests passed!\")"
      ],
      "metadata": {
        "id": "g0pAwvknzzNL"
      },
      "execution_count": null,
      "outputs": []
    },
    {
      "cell_type": "markdown",
      "metadata": {
        "id": "jV9ji5jgvT0f"
      },
      "source": [
        "# Function: Download PRs"
      ]
    },
    {
      "cell_type": "code",
      "execution_count": null,
      "metadata": {
        "id": "j3p_Gir_vT0f"
      },
      "outputs": [],
      "source": [
        "processed_all_prs = True\n",
        "\n",
        "def get_prs(repo):\n",
        "    page = 0  # Start at the first page\n",
        "    processed_all_for_repo = False\n",
        "    repo_prs = []\n",
        "\n",
        "    while page < max_pages:\n",
        "        prs = repo.get_pulls(\n",
        "            sort=\"created\",\n",
        "            direction=\"desc\",\n",
        "            state=\"all\"\n",
        "        )[page * per_page : (page + 1) * per_page]  # Manual pagination\n",
        "\n",
        "        # Filter PRs by created_at date\n",
        "        filtered_prs = [pr for pr in prs if pr.created_at >= cutoff_date]\n",
        "\n",
        "        if not filtered_prs:\n",
        "            processed_all_for_repo = True\n",
        "            break  # No more PRs in the date range, exit loop\n",
        "\n",
        "        repo_prs.extend(filtered_prs)\n",
        "        page += 1  # Move to next page\n",
        "\n",
        "    if not processed_all_for_repo:\n",
        "        print(f\"Loop terminated early due to max_pages ({max_pages}) failsafe\")\n",
        "        processed_all_prs = False\n",
        "\n",
        "    return repo_prs"
      ]
    },
    {
      "cell_type": "markdown",
      "metadata": {
        "id": "im1NEBdEvT0f"
      },
      "source": [
        "# Function: Process PR Reviews"
      ]
    },
    {
      "cell_type": "code",
      "execution_count": null,
      "metadata": {
        "id": "G6WFweO3vT0g"
      },
      "outputs": [],
      "source": [
        "pr_data = []\n",
        "\n",
        "def get_pr_data(repo, prs):\n",
        "    for pr in prs:\n",
        "        # If the pr is a draft skip it\n",
        "        if pr.draft:\n",
        "            print(f\"#{pr.number} is a draft\")\n",
        "            continue\n",
        "\n",
        "        reviews = pr.get_reviews()\n",
        "        # remove reviews by the author\n",
        "        reviews = [\n",
        "            review for review in reviews\n",
        "            if review.user.login != pr.user.login and\n",
        "                review.user.login != \"coderabbitai[bot]\"\n",
        "        ]\n",
        "\n",
        "        if len(reviews) == 0:\n",
        "            print(f\"No reviews for #{pr.number} by {pr.user.login}\")\n",
        "            continue\n",
        "\n",
        "        # When was the PR ready for review?\n",
        "        issue = repo.get_issue(pr.number)\n",
        "        timeline = issue.get_timeline()\n",
        "        ready_for_review_times = []\n",
        "        ready_for_review_at = pr.created_at\n",
        "\n",
        "        for event in timeline:\n",
        "            if event.event == \"ready_for_review\":\n",
        "                ready_for_review_at = event.created_at\n",
        "                ready_for_review_times.append(ready_for_review_at)\n",
        "                # Continue the loop. Use the last ready for review event\n",
        "\n",
        "        # When was the first review submitted after the PR was ready for review?\n",
        "        for review in reviews:\n",
        "            if review.submitted_at >= ready_for_review_at:\n",
        "                first_review_at = review.submitted_at\n",
        "                break\n",
        "\n",
        "        if first_review_at is None:\n",
        "            if len(ready_for_review_times) > 0:\n",
        "                print(f\"No review for #{pr.number} by {pr.user.login} is after the last ready for review event {ready_for_review_times}\")\n",
        "            first_review_at = reviews[0].submitted_at\n",
        "\n",
        "        if pr.merged_at is None:\n",
        "            time_to_merge = None\n",
        "        else:\n",
        "            time_to_merge = (pr.merged_at - adjust_weekend_date(pr.created_at)).total_seconds() / 3600\n",
        "            if time_to_merge < 0:\n",
        "                time_to_merge = (pr.merged_at - pr.created_at).total_seconds() / 3600\n",
        "\n",
        "        time_to_first_review = (adjust_weekend_date(first_review_at) - ready_for_review_at).total_seconds() / 3600\n",
        "        if time_to_first_review < 0:\n",
        "            time_to_first_review = (first_review_at - ready_for_review_at).total_seconds() / 3600\n",
        "\n",
        "        # print(reviews)\n",
        "\n",
        "        pr_data.append({\n",
        "            \"PR Number\": pr.number,\n",
        "            \"Author\": pr.user.login,\n",
        "            \"Created At\": pr.created_at,\n",
        "            \"Ready For Review At\": ready_for_review_at,\n",
        "            \"Time to First Review (hrs)\": time_to_first_review,\n",
        "            \"Merged At\": pr.merged_at,\n",
        "            \"Time to Merge (hrs)\": time_to_merge,\n",
        "            \"Number of Reviews\": len(reviews),\n",
        "        })"
      ]
    },
    {
      "cell_type": "markdown",
      "source": [
        "# Download Data"
      ],
      "metadata": {
        "id": "m6o5gR_7_IzN"
      }
    },
    {
      "cell_type": "code",
      "source": [
        "from github import Github\n",
        "g = Github(GITHUB_TOKEN)"
      ],
      "metadata": {
        "id": "SbWnoiyX2itr"
      },
      "execution_count": null,
      "outputs": []
    },
    {
      "cell_type": "code",
      "source": [
        "for repo_name in REPO_NAMES.split(','):\n",
        "    repo_name2 = repo_name.strip()\n",
        "    repo = g.get_repo(repo_name2)\n",
        "    print (f\"Collecting PRs for {repo_name2}\")\n",
        "    prs = get_prs(repo)\n",
        "    print (f\"Processing PRs for {repo_name2}\")\n",
        "    get_pr_data(repo, prs)"
      ],
      "metadata": {
        "id": "acPGBoMY7U__"
      },
      "execution_count": null,
      "outputs": []
    },
    {
      "cell_type": "markdown",
      "metadata": {
        "id": "Sb8COXDRvT0g"
      },
      "source": [
        "# Begin Analysis"
      ]
    },
    {
      "cell_type": "code",
      "execution_count": null,
      "metadata": {
        "id": "ERZrIpA0vT0g"
      },
      "outputs": [],
      "source": [
        "import pandas as pd\n",
        "\n",
        "num_prs = len(pr_data)\n",
        "min_created_at = min(pr[\"Created At\"] for pr in pr_data)\n",
        "max_created_at = max(pr[\"Created At\"] for pr in pr_data)\n",
        "min_merged_at = min((pr[\"Merged At\"] for pr in pr_data if pr[\"Merged At\"] is not None), default=None)\n",
        "max_merged_at = max((pr[\"Merged At\"] for pr in pr_data if pr[\"Merged At\"] is not None), default=None)\n",
        "# Compute the average number of reviews per PR\n",
        "avg_num_reviews = sum(pr[\"Number of Reviews\"]) / num_prs\n",
        "\n",
        "# Create a summary DataFrame\n",
        "summary_df = pd.DataFrame({\n",
        "    \"Metric\": [\"Processed All PRs\", \"Number of PRs\", \"Min Created At\", \"Max Created At\", \"Min Merged At\", \"Max Merged At\", \"Avg Number of Reviews per PR\"],\n",
        "    \"Value\": [processed_all_prs, num_prs, min_created_at, max_created_at, min_merged_at, max_merged_at, avg_num_reviews]\n",
        "})\n",
        "\n",
        "# Display the summary table\n",
        "summary_df"
      ]
    },
    {
      "cell_type": "code",
      "source": [
        "df = pd.DataFrame(pr_data)"
      ],
      "metadata": {
        "id": "KUr1C2qExTl0"
      },
      "execution_count": null,
      "outputs": []
    },
    {
      "cell_type": "code",
      "execution_count": null,
      "metadata": {
        "id": "fR_awW0fvT0g"
      },
      "outputs": [],
      "source": [
        "# Display charts\n",
        "import ace_tools_open as tools\n",
        "import matplotlib.pyplot as plt\n",
        "\n",
        "# Remove outliers for better visualization\n",
        "df_filtered = df[pd.notna(df[\"Time to Merge (hrs)\"])].query('`Time to Merge (hrs)` < `Time to Merge (hrs)`.quantile(0.95)')\n",
        "df_filtered = df_filtered[df_filtered[\"Time to First Review (hrs)\"] < df_filtered[\"Time to First Review (hrs)\"].quantile(0.95)]\n",
        "\n",
        "tools.display_dataframe_to_user(name=\"PRs\", dataframe=df)\n",
        "\n",
        "# Plot histograms\n",
        "plt.figure(figsize=(10, 5))\n",
        "plt.hist(df_filtered[\"Time to First Review (hrs)\"].dropna(), bins=20, alpha=0.7)\n",
        "plt.xlabel(\"Time to First Review (hours)\")\n",
        "plt.ylabel(\"Number of PRs\")\n",
        "plt.title(\"Distribution of First Review Times\")\n",
        "plt.show()\n",
        "\n",
        "plt.figure(figsize=(10, 5))\n",
        "plt.hist(df_filtered[\"Time to Merge (hrs)\"].dropna(), bins=20, alpha=0.7)\n",
        "plt.xlabel(\"Time to Merge (hours)\")\n",
        "plt.ylabel(\"Number of PRs\")\n",
        "plt.title(\"Distribution of PR Merge Times\")\n",
        "plt.show()"
      ]
    },
    {
      "cell_type": "code",
      "execution_count": null,
      "metadata": {
        "id": "d0cxfguYvT0g"
      },
      "outputs": [],
      "source": [
        "# time range analysis\n",
        "def analyze_time_ranges(series, metric_name):\n",
        "    total = len(series.dropna())\n",
        "\n",
        "    # Calculate counts and percentages for each range\n",
        "    ranges = {\n",
        "        \"< 1 day\": (series <= 24).sum(),\n",
        "        \"1-2 days\": ((series > 24) & (series <= 48)).sum(),\n",
        "        \"2-3 days\": ((series > 48) & (series <= 72)).sum(),\n",
        "        \"3-4 days\": ((series > 72) & (series <= 96)).sum(),\n",
        "        \"> 4 days\": (series > 96).sum()\n",
        "    }\n",
        "\n",
        "    # Convert to percentages\n",
        "    percentages = {k: (v/total * 100) for k, v in ranges.items()}\n",
        "\n",
        "    print(f\"\\n{metric_name} Analysis:\")\n",
        "    print(\"-\" * 50)\n",
        "    for range_name, count in ranges.items():\n",
        "        print(f\"{range_name}: {count} PRs ({percentages[range_name]:.1f}%)\")\n",
        "\n",
        "# Analyze both metrics\n",
        "analyze_time_ranges(df[\"Time to First Review (hrs)\"], \"Time to First Review\")\n",
        "analyze_time_ranges(df[\"Time to Merge (hrs)\"], \"Time to Merge\")"
      ]
    },
    {
      "cell_type": "code",
      "execution_count": null,
      "metadata": {
        "id": "qyWeVRmkvT0g"
      },
      "outputs": [],
      "source": [
        "# Time to first review and merge distribution charts\n",
        "def plot_time_ranges(df, metric_col, title):\n",
        "    total = len(df[metric_col].dropna())\n",
        "\n",
        "    ranges = {\n",
        "        \"< 1 day\": (df[metric_col] <= 24).sum() / total * 100,\n",
        "        \"1-2 days\": ((df[metric_col] > 24) & (df[metric_col] <= 48)).sum() / total * 100,\n",
        "        \"2-3 days\": ((df[metric_col] > 48) & (df[metric_col] <= 72)).sum() / total * 100,\n",
        "        \"3-4 days\": ((df[metric_col] > 72) & (df[metric_col] <= 96)).sum() / total * 100,\n",
        "        \"> 4 days\": (df[metric_col] > 96).sum() / total * 100\n",
        "    }\n",
        "\n",
        "    plt.figure(figsize=(10, 6))\n",
        "    plt.bar(ranges.keys(), ranges.values())\n",
        "    plt.title(title)\n",
        "    plt.ylabel(\"Percentage of PRs\")\n",
        "    plt.xticks(rotation=45)\n",
        "    plt.tight_layout()\n",
        "    plt.show()\n",
        "\n",
        "# Plot both metrics\n",
        "plot_time_ranges(df, \"Time to First Review (hrs)\", \"Time to First Review Distribution\")\n",
        "plot_time_ranges(df, \"Time to Merge (hrs)\", \"Time to Merge Distribution\")"
      ]
    },
    {
      "cell_type": "code",
      "execution_count": null,
      "metadata": {
        "id": "kgdzlGbKvT0g"
      },
      "outputs": [],
      "source": [
        "authors = (df.groupby('Author')\n",
        "            .size()\n",
        "            .reset_index(name='Number of PRs')\n",
        "            .sort_values('Number of PRs', ascending=False))\n",
        "\n",
        "print(\"All PRs\")\n",
        "print(authors)"
      ]
    },
    {
      "cell_type": "code",
      "execution_count": null,
      "metadata": {
        "id": "mB9kd8epvT0g"
      },
      "outputs": [],
      "source": [
        "authors = (df[df['Merged At'].notna()]  # Filter out rows where Merged At is None\n",
        "            .groupby('Author')\n",
        "            .size()\n",
        "            .reset_index(name='Number of PRs')\n",
        "            .sort_values('Number of PRs', ascending=False))\n",
        "\n",
        "print(\"\\nMerged PRs\")\n",
        "print(authors)"
      ]
    },
    {
      "cell_type": "code",
      "execution_count": null,
      "metadata": {
        "id": "_mOVo0UCvT0h"
      },
      "outputs": [],
      "source": [
        "# Calculate metrics for time to first review by author\n",
        "review_stats = df.groupby('Author').agg({\n",
        "    'Time to First Review (hrs)': ['mean', 'median', 'max']\n",
        "}).sort_values(('Time to First Review (hrs)', 'mean'), ascending=False).head(5)\n",
        "\n",
        "# Calculate metrics for time to merge by author\n",
        "merge_stats = df.groupby('Author').agg({\n",
        "    'Time to Merge (hrs)': ['mean', 'median', 'max']\n",
        "}).sort_values(('Time to Merge (hrs)', 'mean'), ascending=False).head(5)\n",
        "\n",
        "# Format the tables\n",
        "review_stats.columns = ['Avg Time to First Review (hrs)', 'Median Time to First Review (hrs)', 'Max Time to First Review (hrs)']\n",
        "merge_stats.columns = ['Avg Time to Merge (hrs)', 'Median Time to Merge (hrs)', 'Max Time to Merge (hrs)']\n",
        "\n",
        "print(\"Top 5 Authors by Avg Time to First Review:\")\n",
        "print(\"-\" * 60)\n",
        "print(review_stats.round(2))\n",
        "\n",
        "print(\"\\nTop 5 Authors by Avg Time to Merge:\")\n",
        "print(\"-\" * 60)\n",
        "print(merge_stats.round(2))"
      ]
    },
    {
      "cell_type": "code",
      "execution_count": null,
      "metadata": {
        "id": "_YT9TYSAvT0h"
      },
      "outputs": [],
      "source": [
        "review_stats = df.groupby('Author').agg({\n",
        "    'Time to First Review (hrs)': ['mean', 'median', 'max']\n",
        "}).sort_values(('Time to First Review (hrs)', 'median'), ascending=False).head(5)\n",
        "\n",
        "# Calculate metrics for time to merge by author\n",
        "merge_stats = df.groupby('Author').agg({\n",
        "    'Time to Merge (hrs)': ['mean', 'median', 'max']\n",
        "}).sort_values(('Time to Merge (hrs)', 'median'), ascending=False).head(5)\n",
        "\n",
        "# Format the tables\n",
        "review_stats.columns = ['Avg Time to First Review (hrs)', 'Median Time to First Review (hrs)', 'Max Time to First Review (hrs)']\n",
        "merge_stats.columns = ['Avg Time to Merge (hrs)', 'Median Time to Merge (hrs)', 'Max Time to Merge (hrs)']\n",
        "\n",
        "print(\"Top 5 Authors by Median Time to First Review:\")\n",
        "print(\"-\" * 60)\n",
        "print(review_stats.round(2))\n",
        "\n",
        "print(\"\\nTop 5 Authors by Median Time to Merge:\")\n",
        "print(\"-\" * 60)\n",
        "print(merge_stats.round(2))"
      ]
    },
    {
      "cell_type": "code",
      "execution_count": null,
      "metadata": {
        "id": "RMXKiToMvT0h"
      },
      "outputs": [],
      "source": [
        "review_stats = df.groupby('Author').agg({\n",
        "    'Time to First Review (hrs)': ['mean', 'median', 'max']\n",
        "}).sort_values(('Time to First Review (hrs)', 'max'), ascending=False).head(5)\n",
        "\n",
        "# Calculate metrics for time to merge by author\n",
        "merge_stats = df.groupby('Author').agg({\n",
        "    'Time to Merge (hrs)': ['mean', 'median', 'max']\n",
        "}).sort_values(('Time to Merge (hrs)', 'max'), ascending=False).head(5)\n",
        "\n",
        "# Format the tables\n",
        "review_stats.columns = ['Avg Time to First Review (hrs)', 'Median Time to First Review (hrs)', 'Max Time to First Review (hrs)']\n",
        "merge_stats.columns = ['Avg Time to Merge (hrs)', 'Median Time to Merge (hrs)', 'Max Time to Merge (hrs)']\n",
        "\n",
        "print(\"Top 5 Authors by Max Time to First Review:\")\n",
        "print(\"-\" * 60)\n",
        "print(review_stats.round(2))\n",
        "\n",
        "print(\"\\nTop 5 Authors by Max Time to Merge:\")\n",
        "print(\"-\" * 60)\n",
        "print(merge_stats.round(2))"
      ]
    }
  ],
  "metadata": {
    "kernelspec": {
      "display_name": "Python 3",
      "language": "python",
      "name": "python3"
    },
    "language_info": {
      "codemirror_mode": {
        "name": "ipython",
        "version": 3
      },
      "file_extension": ".py",
      "mimetype": "text/x-python",
      "name": "python",
      "nbconvert_exporter": "python",
      "pygments_lexer": "ipython3",
      "version": "3.12.6"
    },
    "colab": {
      "provenance": [],
      "include_colab_link": true
    }
  },
  "nbformat": 4,
  "nbformat_minor": 0
}
